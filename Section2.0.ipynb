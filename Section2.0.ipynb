{
 "cells": [
  {
   "cell_type": "markdown",
   "metadata": {},
   "source": [
    "# Section 2: Numerical Python (NumPy) Basics"
   ]
  },
  {
   "cell_type": "markdown",
   "metadata": {},
   "source": [
    "### NumPy - Numerical Python for high performance computing and data analysis\n",
    "    \n",
    "#### array vs list\n",
    "    list - for heterogeneous data\n",
    "    array - for homogeneous data\n",
    "For MATLAB users:\n",
    "http://mathesaurus.sourceforge.net/matlab-numpy.html\n",
    "##### http://www.technologyreview.com/view/541036/machine-learning-algorithm-predicts-which-new-faces-will-make-it-as-fashion-models/"
   ]
  },
  {
   "cell_type": "markdown",
   "metadata": {},
   "source": [
    "#### Numpy functions for creating arrays of zero's and one's"
   ]
  },
  {
   "cell_type": "code",
   "execution_count": 2,
   "metadata": {
    "collapsed": false
   },
   "outputs": [
    {
     "data": {
      "text/plain": [
       "array([[1, 1, 1, 1],\n",
       "       [1, 1, 1, 1],\n",
       "       [1, 1, 1, 1]])"
      ]
     },
     "execution_count": 2,
     "metadata": {},
     "output_type": "execute_result"
    }
   ],
   "source": [
    "import numpy as np\n",
    "a = np.zeros(10) #creates arrays of 10 zeros\n",
    "list(a)\n",
    "b = np.zeros((4,3)) #Pass tuples to create  matrix \n",
    "c = np.ones((3,4), dtype = np.int64) \n",
    "#c.dtype\n",
    "c\n",
    "#d = np.eye(4, dtype = np.float64)\n",
    "#d"
   ]
  },
  {
   "cell_type": "code",
   "execution_count": 179,
   "metadata": {
    "collapsed": false
   },
   "outputs": [
    {
     "name": "stdout",
     "output_type": "stream",
     "text": [
      "[ 3.7 -1.5  2.8 -4.6]\n",
      "[ 3 -1  2 -4]\n",
      "[ 4. -2.  3. -5.]\n",
      "[ 3. -2.  2. -5.]\n"
     ]
    }
   ],
   "source": [
    "arr = np.array([3.7, -1.5, 2.8, -4.6])\n",
    "print(arr)\n",
    "arr2 = arr.astype(np.int32)\n",
    "print(arr2)\n",
    "arr3 = np.round(arr)\n",
    "print(arr3)\n",
    "arr4 = np.floor(arr)\n",
    "print(arr4)\n"
   ]
  },
  {
   "cell_type": "code",
   "execution_count": 43,
   "metadata": {
    "collapsed": false
   },
   "outputs": [
    {
     "name": "stdout",
     "output_type": "stream",
     "text": [
      "[0 1 2 3 4 5]\n"
     ]
    },
    {
     "data": {
      "text/plain": [
       "array([-4. , -3.5, -3. , -2.5, -2. , -1.5, -1. , -0.5,  0. ,  0.5,  1. ,\n",
       "        1.5,  2. ,  2.5,  3. ,  3.5])"
      ]
     },
     "execution_count": 43,
     "metadata": {},
     "output_type": "execute_result"
    }
   ],
   "source": [
    "d = np.arange(6) # array-valued python range function\n",
    "print(d)\n",
    "d2 = np.arange(-4, 4, 0.5)\n",
    "d2"
   ]
  },
  {
   "cell_type": "code",
   "execution_count": 62,
   "metadata": {
    "collapsed": false
   },
   "outputs": [
    {
     "data": {
      "text/plain": [
       "array([ 3.7, -1.5,  2.8, -4.6])"
      ]
     },
     "execution_count": 62,
     "metadata": {},
     "output_type": "execute_result"
    }
   ],
   "source": [
    "arr = np.array(['3.7', '-1.5', '2.8', '-4.6'], dtype = np.string_)\n",
    "arr2 = arr.astype(float) # python recognizes it as arr.astype(np.float64)\n",
    "arr2"
   ]
  },
  {
   "cell_type": "markdown",
   "metadata": {
    "collapsed": true
   },
   "source": [
    "#### Vectorization - multidimensional arrays allow us operations on data they contain with out \n",
    "needing to write loops such as for loops - a process known as vectorization\n",
    "vectorization - replacing explicit loops with array expression - vectorized array operations are faster "
   ]
  },
  {
   "cell_type": "code",
   "execution_count": 68,
   "metadata": {
    "collapsed": false
   },
   "outputs": [
    {
     "data": {
      "text/plain": [
       "array([ 0.4   ,  0.2   ,  0.3125])"
      ]
     },
     "execution_count": 68,
     "metadata": {},
     "output_type": "execute_result"
    }
   ],
   "source": [
    "a1 = np.array([2.5, 5., 3.2])\n",
    "a2  = 2*np.ones(3)\n",
    "a3 = a1*a2  # element by element multiplication MATLAB a1.*a2\n",
    "a4 = 1/a1 # element-by-elemnt division similar to MATLAB 1./a1\n",
    "a4\n",
    "#a4 = np.dot(a1,a2) #Dot product of two vectors a1 and a2\n",
    "#a4"
   ]
  },
  {
   "cell_type": "markdown",
   "metadata": {
    "collapsed": true
   },
   "source": [
    "#### Consider 2D array - array indexing and slicing. More on indexing can also be found at \n",
    "http://docs.scipy.org/doc/numpy/reference/arrays.indexing.html"
   ]
  },
  {
   "cell_type": "code",
   "execution_count": 69,
   "metadata": {
    "collapsed": false
   },
   "outputs": [],
   "source": [
    "b1 = np.array([[1,2,3], [4,5,6], [6,7,8]])\n",
    "#print(b1)\n",
    "#print('')\n",
    "b2  = 2*b1\n",
    "#print(b2)\n",
    "b3 = b1*b2  # element by element multiplication MATLAB b1.*b2\n",
    "#print(b3)\n",
    "b4 = 1/b1 # element-by-elemnt division similar to MATLAB 1./a1\n",
    "#print(b4)\n",
    "b5 = b1 ** 2 #elementwise squaring\n",
    "#print(b5)"
   ]
  },
  {
   "cell_type": "code",
   "execution_count": 70,
   "metadata": {
    "collapsed": false
   },
   "outputs": [
    {
     "name": "stdout",
     "output_type": "stream",
     "text": [
      "[[ 1  4  9]\n",
      " [16 25 36]\n",
      " [36 49 64]]\n",
      "\n"
     ]
    },
    {
     "data": {
      "text/plain": [
       "array([[ 1,  4,  9],\n",
       "       [ 0,  0, 36],\n",
       "       [ 0,  0, 64]])"
      ]
     },
     "execution_count": 70,
     "metadata": {},
     "output_type": "execute_result"
    }
   ],
   "source": [
    "print(b5)\n",
    "print('')\n",
    "b5[2,2]\n",
    "#print(b5[2,2])\n",
    "#print(b5[2])\n",
    "#print(b5[2][2])\n",
    "#b5[2,:]\n",
    "#b5[:,2]\n",
    "b5[:,0:2]\n",
    "b5[1:3, 0:2]\n",
    "b5[:, 1:]\n",
    "b5[1:,:2] = 0\n",
    "b5"
   ]
  },
  {
   "cell_type": "code",
   "execution_count": 67,
   "metadata": {
    "collapsed": false
   },
   "outputs": [
    {
     "name": "stdout",
     "output_type": "stream",
     "text": [
      "[ 0  1  2 23 23 23  6  7  8]\n",
      "[23 23 23]\n",
      "[23 23 78]\n",
      "[ 0  1  2 23 23 78  6  7  8]\n",
      "[ 0  1  2 23 23 78  6  7  8]\n"
     ]
    }
   ],
   "source": [
    "arr = np.array([0, 1, 2,3,4,5,6,7,8])\n",
    "arr[3:6] = 23 #assign a scalar value to a slice of array - the value is broadcasted\n",
    "print(arr)\n",
    "arr2 = arr[3:6] #array slices are views on the original data. Data is not copied\n",
    "print(arr2)\n",
    "arr2[2] = 78 #changes on the slice affects the original data\n",
    "print(arr2) \n",
    "print(arr)\n",
    "arr3 = arr[3:6].copy() #for explicitly copying the array slice\n",
    "print(arr)"
   ]
  },
  {
   "cell_type": "code",
   "execution_count": 44,
   "metadata": {
    "collapsed": false
   },
   "outputs": [
    {
     "name": "stdout",
     "output_type": "stream",
     "text": [
      "[[[ 1  2  3]\n",
      "  [ 4  5  6]\n",
      "  [ 7  8  9]]\n",
      "\n",
      " [[11 12 13]\n",
      "  [14 15 16]\n",
      "  [17 18 19]]]\n",
      "\n",
      "18\n",
      "[[11 12 13]\n",
      " [14 15 16]\n",
      " [17 18 19]]\n"
     ]
    }
   ],
   "source": [
    "arr3d = np.array([[[1,2,3],[4,5,6],[7,8,9]],[[11,12,13], [14,15,16],[17,18,19]]])\n",
    "print(arr3d)\n",
    "print('')\n",
    "print(arr3d[1,2,1])\n",
    "arr3d.shape\n",
    "print(arr3d[1])"
   ]
  },
  {
   "cell_type": "markdown",
   "metadata": {},
   "source": [
    "#### Random number generators in Python:\n",
    "    randn\n",
    "Boolean array can be passed when indexing an array"
   ]
  },
  {
   "cell_type": "code",
   "execution_count": 131,
   "metadata": {
    "collapsed": false
   },
   "outputs": [
    {
     "name": "stdout",
     "output_type": "stream",
     "text": [
      "[[ 0.05976754  0.59331574  1.57904194 -0.69967007]\n",
      " [-0.27658815  1.69198589 -0.08702664 -0.8578092 ]\n",
      " [ 0.73166669 -2.07192132 -0.21044126 -0.71107697]\n",
      " [-0.29167503 -1.43285351  1.10211606  0.18355466]\n",
      " [-0.09804161  0.6735338   0.75115438 -0.90901183]\n",
      " [-0.93990501 -0.33137751 -0.38681573  0.13851821]\n",
      " [ 0.41007317  1.36993524  1.62086146 -1.20745412]]\n",
      "\n",
      "\n",
      "\n",
      "[[ 0.05976754 -0.69967007]\n",
      " [-0.27658815 -0.8578092 ]\n",
      " [ 0.73166669 -0.71107697]\n",
      " [-0.29167503  0.18355466]\n",
      " [-0.09804161 -0.90901183]\n",
      " [-0.93990501  0.13851821]\n",
      " [ 0.41007317 -1.20745412]]\n",
      "\n",
      "[[-0.27658815  1.69198589 -0.08702664 -0.8578092 ]\n",
      " [ 0.73166669 -2.07192132 -0.21044126 -0.71107697]\n",
      " [-0.09804161  0.6735338   0.75115438 -0.90901183]\n",
      " [-0.93990501 -0.33137751 -0.38681573  0.13851821]\n",
      " [ 0.41007317  1.36993524  1.62086146 -1.20745412]]\n",
      "\n",
      "[[ 0.05976754  0.59331574  1.57904194 -0.69967007]\n",
      " [-0.27658815  1.69198589 -0.08702664 -0.8578092 ]\n",
      " [-0.29167503 -1.43285351  1.10211606  0.18355466]]\n",
      "\n",
      "[[ 0.05976754  0.59331574  1.57904194  0.        ]\n",
      " [ 0.          1.69198589  0.          0.        ]\n",
      " [ 0.73166669  0.          0.          0.        ]\n",
      " [ 0.          0.          1.10211606  0.18355466]\n",
      " [ 0.          0.6735338   0.75115438  0.        ]\n",
      " [ 0.          0.          0.          0.13851821]\n",
      " [ 0.41007317  1.36993524  1.62086146  0.        ]]\n",
      "[[  0.05976754   0.59331574   1.57904194   0.        ]\n",
      " [ 10.          10.          10.          10.        ]\n",
      " [ 10.          10.          10.          10.        ]\n",
      " [  0.           0.           1.10211606   0.18355466]\n",
      " [ 10.          10.          10.          10.        ]\n",
      " [ 10.          10.          10.          10.        ]\n",
      " [ 10.          10.          10.          10.        ]]\n"
     ]
    }
   ],
   "source": [
    "r1 = np.random.randn(7,4)\n",
    "print(r1)\n",
    "print('')\n",
    "mybool = np.array([True, False, True, False, False, False, False]) \n",
    "#print(r1[mybool, :])\n",
    "print('')\n",
    "names = np.array(['Bob', 'Will', 'Jack', 'Bob', 'Mark', 'Tom', 'Lisa'])\n",
    "#print(r1[names == 'Bob'])\n",
    "print('')\n",
    "\n",
    "#print(r1[names=='Bob', 2:])\n",
    "print(r1[:, names=='Bob'])\n",
    "print('')\n",
    "print(r1[names != 'Bob'])\n",
    "print('')\n",
    "mnames = (names == 'Bob') | (names == 'Will')\n",
    "print(r1[mnames])\n",
    "print('')\n",
    "r1[r1 < 0] = 0 #Tests ans sets all values less than zero to 0.\n",
    "r2 = r1\n",
    "print(r2)\n",
    "r2[names != 'Bob'] = 10\n",
    "print(r2)"
   ]
  },
  {
   "cell_type": "code",
   "execution_count": 105,
   "metadata": {
    "collapsed": false
   },
   "outputs": [
    {
     "name": "stdout",
     "output_type": "stream",
     "text": [
      "[ 1.23986055 -0.03779555 -2.69932715 -0.36472962 -1.90141078 -0.3058847\n",
      " -0.67419879 -0.82350888  0.35065395 -0.46575665]\n",
      "[-2.69932715 -0.36472962 -1.90141078 -0.3058847  -0.67419879]\n",
      "[ 1.23986055  0.35065395]\n"
     ]
    }
   ],
   "source": [
    "arr1d = np.random.randn(10)\n",
    "print(arr1d)\n",
    "arr1d_2 = arr1d[2:7]\n",
    "#arr1d_2[0:3] = 0\n",
    "print(arr1d_2)\n",
    "print(arr1d[arr1d > 0])"
   ]
  },
  {
   "cell_type": "markdown",
   "metadata": {},
   "source": [
    "Fancy indexing [example from the reference]"
   ]
  },
  {
   "cell_type": "code",
   "execution_count": 142,
   "metadata": {
    "collapsed": false
   },
   "outputs": [
    {
     "name": "stdout",
     "output_type": "stream",
     "text": [
      "[[ 0.  0.  0.  0.]\n",
      " [ 1.  1.  1.  1.]\n",
      " [ 2.  2.  2.  2.]\n",
      " [ 3.  3.  3.  3.]\n",
      " [ 4.  4.  4.  4.]\n",
      " [ 5.  5.  5.  5.]\n",
      " [ 6.  6.  6.  6.]\n",
      " [ 7.  7.  7.  7.]]\n",
      "\n",
      "[[ 4.  4.  4.  4.]\n",
      " [ 6.  6.  6.  6.]\n",
      " [ 0.  0.  0.  0.]\n",
      " [ 2.  2.  2.  2.]]\n",
      "\n",
      "[[ 5.  5.  5.  5.]\n",
      " [ 3.  3.  3.  3.]\n",
      " [ 1.  1.  1.  1.]]\n"
     ]
    }
   ],
   "source": [
    "arr = np.empty((8,4))\n",
    "for i in range(8):\n",
    "    arr[i] = i\n",
    "print(arr)\n",
    "print('')\n",
    "print(arr[[4, 6, 0, 2]]) #selects particular arrays in the list\n",
    "print('')\n",
    "print(arr[[-3, -5, -7]])"
   ]
  },
  {
   "cell_type": "code",
   "execution_count": 159,
   "metadata": {
    "collapsed": false
   },
   "outputs": [
    {
     "name": "stdout",
     "output_type": "stream",
     "text": [
      "[ 0  1  2  3  4  5  6  7  8  9 10 11 12 13 14 15 16 17 18 19 20 21 22 23 24\n",
      " 25 26 27 28 29 30 31]\n",
      "[[ 0  1  2  3]\n",
      " [ 4  5  6  7]\n",
      " [ 8  9 10 11]\n",
      " [12 13 14 15]\n",
      " [16 17 18 19]\n",
      " [20 21 22 23]\n",
      " [24 25 26 27]\n",
      " [28 29 30 31]]\n"
     ]
    },
    {
     "data": {
      "text/plain": [
       "array([[ 4,  5,  7],\n",
       "       [ 8,  9, 11],\n",
       "       [20, 21, 23]])"
      ]
     },
     "execution_count": 159,
     "metadata": {},
     "output_type": "execute_result"
    }
   ],
   "source": [
    "ar1 = np.arange(32)\n",
    "print(ar1)\n",
    "ar1 = np.arange(32).reshape(8,4)\n",
    "print(ar1)\n",
    "#ar1[[1, 2, 5], [0,1,3]] #returns the elements (1,0), (2,1), (5,3)\n",
    "ar1[[1,2,5]] [:, [0,1,3]] #selects a square region from ar1"
   ]
  },
  {
   "cell_type": "markdown",
   "metadata": {},
   "source": [
    "#### Transposing Arrays"
   ]
  },
  {
   "cell_type": "code",
   "execution_count": null,
   "metadata": {
    "collapsed": true
   },
   "outputs": [],
   "source": []
  },
  {
   "cell_type": "code",
   "execution_count": 177,
   "metadata": {
    "collapsed": false
   },
   "outputs": [
    {
     "name": "stdout",
     "output_type": "stream",
     "text": [
      "[[ 0  1  2  3  4]\n",
      " [ 5  6  7  8  9]\n",
      " [10 11 12 13 14]]\n",
      "[[ 0  5 10]\n",
      " [ 1  6 11]\n",
      " [ 2  7 12]\n",
      " [ 3  8 13]\n",
      " [ 4  9 14]]\n",
      "\n"
     ]
    },
    {
     "data": {
      "text/plain": [
       "[array([ 0,  5, 10]),\n",
       " array([ 1,  6, 11]),\n",
       " array([ 2,  7, 12]),\n",
       " array([ 3,  8, 13]),\n",
       " array([ 4,  9, 14])]"
      ]
     },
     "execution_count": 177,
     "metadata": {},
     "output_type": "execute_result"
    }
   ],
   "source": [
    "ar2 = np.arange(15).reshape(3,5)\n",
    "print(ar2)\n",
    "ar2.T #returns the transpose of ar2\n",
    "print(ar2.T)\n",
    "print('')\n",
    "print(ar2.swapaxes(0,1)) #returns a view without making a copy"
   ]
  },
  {
   "cell_type": "code",
   "execution_count": 172,
   "metadata": {
    "collapsed": false
   },
   "outputs": [
    {
     "name": "stdout",
     "output_type": "stream",
     "text": [
      "[[ 0  5 10]\n",
      " [ 1  6 11]\n",
      " [ 2  7 12]\n",
      " [ 3  8 13]\n",
      " [ 4  9 14]]\n",
      "(5, 3)\n",
      "  x\n",
      "(3, 5)\n"
     ]
    }
   ],
   "source": [
    "\n",
    "print(ar2.T.shape); print('  x'); print(ar2.shape)"
   ]
  },
  {
   "cell_type": "code",
   "execution_count": 170,
   "metadata": {
    "collapsed": false
   },
   "outputs": [
    {
     "data": {
      "text/plain": [
       "array([[ 30,  80, 130],\n",
       "       [ 80, 255, 430],\n",
       "       [130, 430, 730]])"
      ]
     },
     "execution_count": 170,
     "metadata": {},
     "output_type": "execute_result"
    }
   ],
   "source": [
    "dp = np.dot(ar2.T, ar2) #not commutative\n",
    "dp"
   ]
  },
  {
   "cell_type": "markdown",
   "metadata": {},
   "source": [
    "Elementwise array functions"
   ]
  },
  {
   "cell_type": "code",
   "execution_count": 183,
   "metadata": {
    "collapsed": false
   },
   "outputs": [
    {
     "data": {
      "text/plain": [
       "array([[ 0,  1,  2],\n",
       "       [ 3,  4,  5],\n",
       "       [ 6,  7,  8],\n",
       "       [ 9, 10, 11]])"
      ]
     },
     "execution_count": 183,
     "metadata": {},
     "output_type": "execute_result"
    }
   ],
   "source": [
    "arr = np.arange(12).reshape(4,3)\n",
    "arr"
   ]
  },
  {
   "cell_type": "code",
   "execution_count": 194,
   "metadata": {
    "collapsed": false
   },
   "outputs": [
    {
     "name": "stdout",
     "output_type": "stream",
     "text": [
      "2.0\n",
      "[ 2.  3.]\n",
      "\n",
      "[[ 0.          1.          1.41421356]\n",
      " [ 1.73205081  2.          2.23606798]\n",
      " [ 2.44948974  2.64575131  2.82842712]\n",
      " [ 3.          3.16227766  3.31662479]]\n",
      "\n",
      "[[  1.00000000e+00   2.71828183e+00   7.38905610e+00]\n",
      " [  2.00855369e+01   5.45981500e+01   1.48413159e+02]\n",
      " [  4.03428793e+02   1.09663316e+03   2.98095799e+03]\n",
      " [  8.10308393e+03   2.20264658e+04   5.98741417e+04]]\n"
     ]
    }
   ],
   "source": [
    "#unary functions (ufuncs)\n",
    "print(np.sqrt(4))\n",
    "print(np.sqrt([4,9]))\n",
    "print('')\n",
    "print(np.sqrt(arr))\n",
    "print('')\n",
    "print(np.exp(arr))"
   ]
  },
  {
   "cell_type": "code",
   "execution_count": 192,
   "metadata": {
    "collapsed": false
   },
   "outputs": [
    {
     "data": {
      "text/plain": [
       "array([ 1.41421356,  2.        ])"
      ]
     },
     "execution_count": 192,
     "metadata": {},
     "output_type": "execute_result"
    }
   ],
   "source": [
    "np.sqrt([2, 4])"
   ]
  },
  {
   "cell_type": "code",
   "execution_count": 23,
   "metadata": {
    "collapsed": false
   },
   "outputs": [
    {
     "name": "stdout",
     "output_type": "stream",
     "text": [
      "[ 1.30371133 -1.42121159  1.61135135  0.90719913  0.61609885]\n",
      "\n",
      "1.61135134892\n",
      "\n",
      "-1.42121158937\n",
      "[[ 1.32875108 -1.53228023 -1.29650584]\n",
      " [ 0.91064726  0.60683543  0.88019663]\n",
      " [ 1.45282205 -0.11324724  0.21965334]\n",
      " [ 1.95494791 -0.97927776 -0.13507702]]\n",
      "\n",
      "[ 1.95494791  0.60683543  0.88019663]\n",
      "\n",
      "[ 0.23007338  0.08969884  0.5986779   0.8657683   0.65716229]\n",
      "[ 1.30371133  0.08969884  1.61135135  0.90719913  0.65716229]\n"
     ]
    }
   ],
   "source": [
    "x = np.random.randn(5)\n",
    "print(x)\n",
    "print('')\n",
    "print(np.amax(x)) #maximum of an array\n",
    "print('')\n",
    "print(np.amin(x))\n",
    "z = np.random.randn(12).reshape(4,3)\n",
    "print(z)\n",
    "print('')\n",
    "print(np.amax(z,0)) # 0 maximum along the column and 1 for maximum along the row \n",
    "print('')\n",
    "y = np.random.rand(5)\n",
    "print(y)\n",
    "print(np.maximum(x,y))\n",
    "# see http://docs.scipy.org/doc/numpy/reference/generated/numpy.amax.html"
   ]
  },
  {
   "cell_type": "code",
   "execution_count": 86,
   "metadata": {
    "collapsed": false
   },
   "outputs": [
    {
     "name": "stdout",
     "output_type": "stream",
     "text": [
      "10000\n"
     ]
    },
    {
     "data": {
      "text/plain": [
       "<matplotlib.text.Text at 0x10db65748>"
      ]
     },
     "execution_count": 86,
     "metadata": {},
     "output_type": "execute_result"
    },
    {
     "data": {
      "image/png": "[encoded data removed]",
      "text/plain": [
       "<matplotlib.figure.Figure at 0x10e3c3048>"
      ]
     },
     "metadata": {},
     "output_type": "display_data"
    }
   ],
   "source": [
    "import matplotlib.pyplot as plt\n",
    "y = np.random.randn(10000) #python normal distribution for standard normal (mean = 0, var = 1)\n",
    "print(len(y))\n",
    "%matplotlib inline  \n",
    "plt.hist(y)\n",
    "plt.title('Normal Distribution')\n",
    "plt.xlabel('x')\n",
    "plt.ylabel('prob')\n",
    "#plt.show()"
   ]
  },
  {
   "cell_type": "code",
   "execution_count": 124,
   "metadata": {
    "collapsed": false
   },
   "outputs": [
    {
     "data": {
      "image/png": "[encoded data removed]",
      "text/plain": [
       "<matplotlib.figure.Figure at 0x1100440f0>"
      ]
     },
     "metadata": {},
     "output_type": "display_data"
    }
   ],
   "source": [
    "# Surface plot\n",
    "x = np.arange(-4, 4, 0.2);\n",
    "y = np.arange(-4, 4, 0.2);\n",
    "xs, ys = np.meshgrid(x,y)\n",
    "#print(xs)\n",
    "#print('')\n",
    "#print(ys)\n",
    "z = np.sqrt(xs**2 + ys**2)\n",
    "\n",
    "#plt.plot(xs,ys)\n",
    "#plt.boxplot(ys)\n",
    "#plt.contour(xs, ys, z)\n",
    "#plt.show()\n",
    "\n",
    "plt.imshow(z, cmap=plt.cm.gray); plt.colorbar()\n",
    "\n",
    "from mpl_toolkits.mplot3d import axes3d\n",
    "import matplotlib.pyplot as plt\n",
    "\n",
    "#fig = plt.figure()\n",
    "#ax = fig.add_subplot(111, projection='3d')\n",
    "\n",
    "#ax.plot_wireframe(xs,ys,z, rstride=10, cstride=10)\n",
    "#ax.plot_surface(xs,ys,z, rstride=10, cstride=10)\n",
    "#ax.contour(xs, ys, z)\n",
    "\n",
    "plt.show()\n",
    "#http://matplotlib.org/mpl_toolkits/mplot3d/tutorial.html#wireframe-plots\n",
    "#http://matplotlib.org/api/pyplot_api.html#matplotlib.pyplot.plot"
   ]
  },
  {
   "cell_type": "code",
   "execution_count": 109,
   "metadata": {
    "collapsed": false
   },
   "outputs": [
    {
     "data": {
      "image/png": "[encoded data removed]",
      "text/plain": [
       "<matplotlib.figure.Figure at 0x10f82eb00>"
      ]
     },
     "metadata": {},
     "output_type": "display_data"
    }
   ],
   "source": [
    "import matplotlib as mpl\n",
    "from mpl_toolkits.mplot3d import Axes3D\n",
    "import numpy as np\n",
    "import matplotlib.pyplot as plt\n",
    "\n",
    "mpl.rcParams['legend.fontsize'] = 10\n",
    "\n",
    "fig = plt.figure()\n",
    "ax = fig.gca(projection='3d')\n",
    "theta = np.linspace(-4 * np.pi, 4 * np.pi, 100)\n",
    "z = np.linspace(-2, 2, 100)\n",
    "r = z**2 + 1\n",
    "x = r * np.sin(theta)\n",
    "y = r * np.cos(theta)\n",
    "ax.plot(x, y, z, label='parametric curve')\n",
    "ax.legend()\n",
    "\n",
    "plt.show()\n"
   ]
  },
  {
   "cell_type": "markdown",
   "metadata": {},
   "source": [
    "#### Statistics"
   ]
  },
  {
   "cell_type": "code",
   "execution_count": 125,
   "metadata": {
    "collapsed": false
   },
   "outputs": [
    {
     "data": {
      "text/plain": [
       "array([[ 1.20016098, -2.54811795, -0.2669271 , -1.20228056],\n",
       "       [-2.53537805,  0.50353241, -2.59926607,  0.8015051 ],\n",
       "       [-1.01039544,  0.85843739, -0.92806065,  1.37131585],\n",
       "       [ 0.27813128,  0.9824496 , -1.24953339,  0.06109194],\n",
       "       [-0.17891513, -0.07614125, -2.18177292,  1.23091323]])"
      ]
     },
     "execution_count": 125,
     "metadata": {},
     "output_type": "execute_result"
    }
   ],
   "source": [
    "arr = np.random.randn(5,4)\n",
    "arr"
   ]
  },
  {
   "cell_type": "code",
   "execution_count": 133,
   "metadata": {
    "collapsed": false
   },
   "outputs": [
    {
     "name": "stdout",
     "output_type": "stream",
     "text": [
      "-0.374462536387\n",
      "[-0.44927927 -0.05596796 -1.44511203  0.45250911]\n",
      "[-0.70429116 -0.95740165  0.07282429  0.01803486 -0.30147902]\n"
     ]
    }
   ],
   "source": [
    "#arr.mean()  # mean of the entire data\n",
    "#optional axis argument \n",
    "#arr.mean(0) # - mean along the columns\n",
    "#arr.mean(1) # - mean along the row\n",
    "print(np.mean(arr))\n",
    "print(np.mean(arr, 0))\n",
    "print(np.mean(arr, 1))"
   ]
  },
  {
   "cell_type": "code",
   "execution_count": 140,
   "metadata": {
    "collapsed": false
   },
   "outputs": [
    {
     "name": "stdout",
     "output_type": "stream",
     "text": [
      "-7.48925072773\n",
      "[-2.24639636 -0.2798398  -7.22556013  2.26254555]\n",
      "[-2.81716463 -3.8296066   0.29129715  0.07213942 -1.20591607]\n"
     ]
    }
   ],
   "source": [
    "print(arr.sum())  # sum of the entire data\n",
    "#optional axis argument \n",
    "print(arr.sum(0)) # - sum along the columns\n",
    "print(arr.sum(1)) # - sum along the row\n",
    "#print(np.sum(arr))\n",
    "#print(np.sum(arr, 0))\n",
    "#print(np.sum(arr, 1))"
   ]
  },
  {
   "cell_type": "code",
   "execution_count": 144,
   "metadata": {
    "collapsed": false
   },
   "outputs": [
    {
     "data": {
      "text/plain": [
       "<function matplotlib.pyplot.show>"
      ]
     },
     "execution_count": 144,
     "metadata": {},
     "output_type": "execute_result"
    },
    {
     "data": {
      "image/png": "[encoded data removed]",
      "text/plain": [
       "<matplotlib.figure.Figure at 0x10e26eb70>"
      ]
     },
     "metadata": {},
     "output_type": "display_data"
    }
   ],
   "source": [
    "#x = np.random.randn(20)\n",
    "x = np.arange(20)\n",
    "y = x.cumsum()\n",
    "plt.plot(y)\n",
    "plt.show"
   ]
  },
  {
   "cell_type": "code",
   "execution_count": 148,
   "metadata": {
    "collapsed": false
   },
   "outputs": [
    {
     "name": "stdout",
     "output_type": "stream",
     "text": [
      "[[ 0  1  2]\n",
      " [ 3  4  5]\n",
      " [ 6  7  8]\n",
      " [ 9 10 11]\n",
      " [12 13 14]] \n",
      "\n",
      "[  0   1   3   6  10  15  21  28  36  45  55  66  78  91 105] \n",
      "\n",
      "[[ 0  1  2]\n",
      " [ 3  5  7]\n",
      " [ 9 12 15]\n",
      " [18 22 26]\n",
      " [30 35 40]] \n",
      "\n",
      "[[ 0  1  3]\n",
      " [ 3  7 12]\n",
      " [ 6 13 21]\n",
      " [ 9 19 30]\n",
      " [12 25 39]] \n",
      "\n"
     ]
    }
   ],
   "source": [
    "arr = np.arange(15).reshape(5,3)\n",
    "print(arr, '\\n')\n",
    "print(arr.cumsum(), '\\n')  # cumsum of the entire data\n",
    "#optional axis argument \n",
    "print(arr.cumsum(0), '\\n') # - cumsum along the columns\n",
    "print(arr.cumsum(1), '\\n') # - cumsum along the row\n",
    "#print(np.sum(arr))\n",
    "#print(np.sum(arr, 0))\n",
    "#print(np.sum(arr, 1))"
   ]
  },
  {
   "cell_type": "code",
   "execution_count": 180,
   "metadata": {
    "collapsed": false
   },
   "outputs": [
    {
     "name": "stdout",
     "output_type": "stream",
     "text": [
      "-0.000991717923903\n",
      "1.00106467822\n"
     ]
    }
   ],
   "source": [
    "np.random.seed(12345)\n",
    "arr = np.random.normal(size=100000) #standard normal distribution - mean = 0, var (or, sd) = 1\n",
    "#arr = np.random.normal(10, 3, 100000) # normal(mean, std, size)\n",
    "print(arr.mean())\n",
    "print(arr.std())\n",
    "#plt.hist(arr)\n",
    "#plt.show"
   ]
  },
  {
   "cell_type": "markdown",
   "metadata": {},
   "source": [
    "#### See Methods for Boolean Arrays"
   ]
  },
  {
   "cell_type": "code",
   "execution_count": 317,
   "metadata": {
    "collapsed": false
   },
   "outputs": [
    {
     "name": "stdout",
     "output_type": "stream",
     "text": [
      "[2 1 4 1 2 1 1 3 1 3 0 2 1 3 2]\n",
      "[0 1 1 1 1 1 1 2 2 2 2 3 3 3 4] \n",
      "\n",
      "[[2 1 4]\n",
      " [1 2 1]\n",
      " [1 3 1]\n",
      " [3 0 2]\n",
      " [1 3 2]] \n",
      "\n",
      "[[1 2 4]\n",
      " [1 1 2]\n",
      " [1 1 3]\n",
      " [0 2 3]\n",
      " [1 2 3]]\n"
     ]
    }
   ],
   "source": [
    "np.random.seed(12345)\n",
    "#for p in range(5):\n",
    "#    irand = np.random.randint(5)\n",
    "#    print(p,' ', irand)\n",
    "    \n",
    "#irand = [print(p, ' ', np.random.randint(0, 5)) for p in range(0, 5)]\n",
    "irand = np.array([np.random.randint(0, 5) for p in range(0, 15)])\n",
    "#irand = [np.random.randint(0, 5) for p in range(0, 15)]\n",
    "print(irand)\n",
    "#sortednum = sorted(irand, key=int)\n",
    "sortedcopy = np.sort(irand)  #returns a sorted copy of irand\n",
    "#sortednum = np.sort(irand.reshape(5,3), 1) # sorting along column\n",
    "print(sortedcopy, '\\n')\n",
    "\n",
    "#irand.sort() #irand is sorted in-place\n",
    "#print(irand, '\\n')\n",
    "\n",
    "s = irand.reshape(5,3)\n",
    "print(s, '\\n')\n",
    "s.sort(1) \n",
    "print(s)"
   ]
  },
  {
   "cell_type": "markdown",
   "metadata": {},
   "source": [
    "#### Unique and other set logics"
   ]
  },
  {
   "cell_type": "markdown",
   "metadata": {
    "collapsed": true
   },
   "source": [
    "#### File I/O Numpy\n",
    "numpy is able to save and load array data (to and from disk) both as a binary and text format.\n",
    "    np.save       - saves an array to a binary file in Numpy .npy format\n",
    "    np.load\n",
    "    np.savez\n",
    "    np.savetxt    - e.g, for writing comma delimited arrays\n",
    "    np.loadtxt\n",
    "    np.genfromtxt"
   ]
  },
  {
   "cell_type": "code",
   "execution_count": 3,
   "metadata": {
    "collapsed": false
   },
   "outputs": [],
   "source": [
    "arr = np.arange(10)\n",
    "np.save('my_arr', arr)"
   ]
  },
  {
   "cell_type": "code",
   "execution_count": 7,
   "metadata": {
    "collapsed": false
   },
   "outputs": [
    {
     "name": "stdout",
     "output_type": "stream",
     "text": [
      "[0 1 2 3 4 5 6 7 8 9]\n"
     ]
    }
   ],
   "source": [
    "m_arr = np.load('my_arr.npy')\n",
    "print(m_arr)"
   ]
  },
  {
   "cell_type": "code",
   "execution_count": 32,
   "metadata": {
    "collapsed": false
   },
   "outputs": [],
   "source": [
    "m_arr2 = np.arange(32).reshape(8,4)\n",
    "#print(m_arr2)\n",
    "np.savetxt('my_arr2.txt', m_arr2, fmt='%d', delimiter=',')"
   ]
  },
  {
   "cell_type": "code",
   "execution_count": 35,
   "metadata": {
    "collapsed": false
   },
   "outputs": [
    {
     "data": {
      "text/plain": [
       "array([[  0.,   1.,   2.,   3.],\n",
       "       [  4.,   5.,   6.,   7.],\n",
       "       [  8.,   9.,  10.,  11.],\n",
       "       [ 12.,  13.,  14.,  15.],\n",
       "       [ 16.,  17.,  18.,  19.],\n",
       "       [ 20.,  21.,  22.,  23.],\n",
       "       [ 24.,  25.,  26.,  27.],\n",
       "       [ 28.,  29.,  30.,  31.]])"
      ]
     },
     "execution_count": 35,
     "metadata": {},
     "output_type": "execute_result"
    }
   ],
   "source": [
    "m_arr3 = np.loadtxt('my_arr2.txt' , delimiter=',')\n",
    "m_arr3\n",
    "#print(m_arr3)"
   ]
  },
  {
   "cell_type": "code",
   "execution_count": 50,
   "metadata": {
    "collapsed": false
   },
   "outputs": [
    {
     "ename": "IndexError",
     "evalue": "too many indices for array",
     "output_type": "error",
     "traceback": [
      "\u001b[0;31m---------------------------------------------------------------------------\u001b[0m",
      "\u001b[0;31mIndexError\u001b[0m                                Traceback (most recent call last)",
      "\u001b[0;32m<ipython-input-50-04f38bd76cc2>\u001b[0m in \u001b[0;36m<module>\u001b[0;34m()\u001b[0m\n\u001b[1;32m      8\u001b[0m \u001b[0ms1\u001b[0m \u001b[0;34m=\u001b[0m \u001b[0mnp\u001b[0m\u001b[0;34m.\u001b[0m\u001b[0mgenfromtxt\u001b[0m\u001b[0;34m(\u001b[0m\u001b[0mBytesIO\u001b[0m\u001b[0;34m(\u001b[0m\u001b[0ms\u001b[0m\u001b[0;34m.\u001b[0m\u001b[0mencode\u001b[0m\u001b[0;34m(\u001b[0m\u001b[0;34m)\u001b[0m\u001b[0;34m)\u001b[0m\u001b[0;34m)\u001b[0m\u001b[0;34m\u001b[0m\u001b[0m\n\u001b[1;32m      9\u001b[0m \u001b[0;31m#np.genfromtxt(StringIO(s), delimiter=',')\u001b[0m\u001b[0;34m\u001b[0m\u001b[0;34m\u001b[0m\u001b[0m\n\u001b[0;32m---> 10\u001b[0;31m \u001b[0ms1\u001b[0m\u001b[0;34m[\u001b[0m\u001b[0;36m1\u001b[0m\u001b[0;34m]\u001b[0m\u001b[0;34m\u001b[0m\u001b[0m\n\u001b[0m",
      "\u001b[0;31mIndexError\u001b[0m: too many indices for array"
     ]
    }
   ],
   "source": [
    "try:\n",
    "    from StringIO import StringIO\n",
    "except ImportError:\n",
    "    #from io import StringIO\n",
    "    from io import BytesIO\n",
    "    \n",
    "s = \"1,1.3,abcde\"\n",
    "s1 = np.genfromtxt(BytesIO(s.encode()))\n",
    "#np.genfromtxt(StringIO(s), delimiter=',')\n",
    "s1[1]"
   ]
  },
  {
   "cell_type": "code",
   "execution_count": 51,
   "metadata": {
    "collapsed": false
   },
   "outputs": [
    {
     "data": {
      "text/plain": [
       "array(nan)"
      ]
     },
     "execution_count": 51,
     "metadata": {},
     "output_type": "execute_result"
    }
   ],
   "source": [
    "import io\n",
    "s = \"1,1.3,abcde\"\n",
    "s1 = np.genfromtxt(io.BytesIO(s.encode()))\n",
    "#np.genfromtxt(StringIO(s), delimiter=',')\n",
    "s1"
   ]
  },
  {
   "cell_type": "markdown",
   "metadata": {},
   "source": [
    "#### File I/O\n",
    "Output\n",
    "    can be printed in human redable form\n",
    "    Written into a file\n",
    "Reading and Writing\n",
    "    open() - returns a file object - creates text stream\n",
    "https://docs.python.org/3.4/tutorial/inputoutput.html\n",
    "Three main types of ios:\n",
    "    text io  -- expects and produces str object\n",
    "    binary io\n",
    "    raw io\n",
    "\n",
    "various modes\n",
    "    read-only   -- 'r'\n",
    "    write-only  -- 'w'\n",
    "    read-write  -- 'r+'\n",
    "    appending   -- 'a'\n",
    "        read binary mode  -- 'rb'\n",
    "        write binary mode -- 'wb'\n",
    "        etc.\n",
    "\n",
    "Methods for file i/o\n",
    "    open()\n",
    "        io.StringIO()  -- in-memory text streams\n",
    "        io.BytesIO()   -- in-memory bytes streams\n",
    "    read()\n",
    "        readline()\n",
    "        readlines()\n",
    "    write()\n",
    "        writelines()\n",
    "    seek(), tell()\n",
    "    close()\n",
    "\n",
    "Methods for standard io\n",
    "    sys.stdin()\n",
    "    sys.stdout()\n",
    "    syst.stderr()"
   ]
  },
  {
   "cell_type": "code",
   "execution_count": 199,
   "metadata": {
    "collapsed": false
   },
   "outputs": [
    {
     "name": "stdout",
     "output_type": "stream",
     "text": [
      "This is 1st line\n",
      "This is 2nd line\n",
      "This is 3rd line\n",
      "This is 4th line\n",
      "This is 5th line\n"
     ]
    }
   ],
   "source": [
    "# open text file for reading\n",
    "#f = open('TestFile.txt', 'rb')\n",
    "f = open('TestFile.txt', 'r')\n",
    "data = f.read()\n",
    "print(data)\n"
   ]
  },
  {
   "cell_type": "code",
   "execution_count": 202,
   "metadata": {
    "collapsed": false
   },
   "outputs": [
    {
     "name": "stdout",
     "output_type": "stream",
     "text": [
      "This is 2nd line\n",
      "This is 3rd line\n",
      "This is 4th line\n",
      "This is 5th line \n",
      "\n",
      "This is 1st line\n",
      "This is 2nd line\n",
      "This is 3rd line\n",
      "This is 4th line\n",
      "This is 5th line \n",
      "\n",
      "2nd line\n",
      "This is 3rd line\n",
      "This is 4th line\n",
      "This is 5th line \n",
      "\n"
     ]
    },
    {
     "data": {
      "text/plain": [
       "<function TextIOWrapper.close>"
      ]
     },
     "execution_count": 202,
     "metadata": {},
     "output_type": "execute_result"
    }
   ],
   "source": [
    "# seek(offset, fromwhere) -- sets the file's current position at the offset\n",
    "#fromwhere 0 (default) seek from file beginning; 1 - seek relative to the current position\n",
    "# 2 - seek relative to the file's end\n",
    "\n",
    "# for python 3.x only supports text file seeks from zero offset (file begining)\n",
    "f.seek(17, 0)   \n",
    "data = f.read()\n",
    "print(data, '\\n')\n",
    "f.seek(0,0)\n",
    "data = f.read()\n",
    "print(data, '\\n')\n",
    "f.seek(25,0)\n",
    "data = f.read()\n",
    "print(data, '\\n')\n",
    "\n",
    "# supported in bytes mode\n",
    "#f.seek(-30,2)\n",
    "#data = f.read()\n",
    "#print(data, '\\n')\n",
    "\n",
    "f.close"
   ]
  },
  {
   "cell_type": "code",
   "execution_count": 227,
   "metadata": {
    "collapsed": false
   },
   "outputs": [
    {
     "name": "stdout",
     "output_type": "stream",
     "text": [
      "Hello World\n",
      "This is a test\n",
      "\n"
     ]
    }
   ],
   "source": [
    "# write() method - writes string to file\n",
    "# Due to buffering the string may not show up in the file \n",
    "# until either flush() or close() methods are called.\n",
    "s = \"\"\"This is the new 1st line.\n",
    "This is the new 2nd line.\n",
    "This is the new 3rd line\n",
    "This is the new 4th line.\"\"\"\n",
    "\n",
    "f = open('FileTestWrite', 'w')\n",
    "f.write(s) \n",
    "f.flush()\n",
    "f.close\n",
    "\n",
    "s = io.StringIO()\n",
    "s.write('Hello World\\n')\n",
    "\n",
    "print('This is a test', file=s)\n",
    " # Get all of the data written so far\n",
    "print(s.getvalue())\n"
   ]
  },
  {
   "cell_type": "code",
   "execution_count": 232,
   "metadata": {
    "collapsed": false
   },
   "outputs": [
    {
     "name": "stdout",
     "output_type": "stream",
     "text": [
      "This is the new 1st line.\n",
      "This is the new 2nd line.\n",
      "This is the new 3rd line\n",
      "This is the new 4th line."
     ]
    }
   ],
   "source": [
    "f = open('FileTestWrite', 'r')\n",
    "for line in f:\n",
    "    print(line, end='')\n",
    "f.close()"
   ]
  },
  {
   "cell_type": "code",
   "execution_count": 272,
   "metadata": {
    "collapsed": false
   },
   "outputs": [
    {
     "name": "stdout",
     "output_type": "stream",
     "text": [
      "['This is the new 1st line.\\n', 'This is the new 2nd line.\\n', 'This is the new 3rd line\\n', 'This is the new 4th line.']\n",
      "\n",
      "['This is the new 1st line.\\n', 'This is the new 2nd line.\\n', 'This is the new 3rd line\\n', 'This is the new 4th line.']\n"
     ]
    }
   ],
   "source": [
    "#list all lines in a file\n",
    "f = open('FileTestWrite', 'r')\n",
    "\n",
    "\n",
    "data = f.readlines() #read all lines and return them as a list\n",
    "print(data)\n",
    "print()\n",
    "\n",
    "f.seek(0)\n",
    "data2 = list(f)\n",
    "print(data2)\n",
    "\n",
    "f.close()\n",
    "\n"
   ]
  },
  {
   "cell_type": "code",
   "execution_count": 256,
   "metadata": {
    "collapsed": false
   },
   "outputs": [
    {
     "name": "stdout",
     "output_type": "stream",
     "text": [
      "('This is a text', 42)\n"
     ]
    }
   ],
   "source": [
    "# Need to convert to string first\n",
    "value = ('This is a text', 42)\n",
    "s = str(value)\n",
    "f = open('TestFile2.txt', 'w+')\n",
    "f.write(s)\n",
    "f.flush()\n",
    "f.seek(0,0)\n",
    "data = f.read()\n",
    "print(data)\n",
    "f.close()"
   ]
  },
  {
   "cell_type": "markdown",
   "metadata": {},
   "source": [
    "When using f = open(), you have to make sure the file is explicitly closed. A better way of opening a file is using 'with ... as' statement as shown below. This creates a block. Reading is done within the block. Once you exit the block, python will automatically close the file."
   ]
  },
  {
   "cell_type": "code",
   "execution_count": 273,
   "metadata": {
    "collapsed": false
   },
   "outputs": [
    {
     "name": "stdout",
     "output_type": "stream",
     "text": [
      "('This is a text', 42)\n"
     ]
    },
    {
     "data": {
      "text/plain": [
       "True"
      ]
     },
     "execution_count": 273,
     "metadata": {},
     "output_type": "execute_result"
    }
   ],
   "source": [
    "# Use 'with .. as' statement - ensures proper closure of the file\n",
    "with open('TestFile.txt', 'r') as f:\n",
    "    data = f.read()\n",
    "    print(data)\n",
    "f.closed #checks if the file is closed."
   ]
  },
  {
   "cell_type": "code",
   "execution_count": 281,
   "metadata": {
    "collapsed": false
   },
   "outputs": [],
   "source": [
    "import pickle\n",
    "objList = ['Bar', 'foo', '1234', 'cat'] #['Bar', 'foo', 1234, 'cat', (0.5, 0.6)]\n",
    "fout = open('pickle.txt', 'wb')\n",
    "pickle.dump(objList, fout)\n",
    "fout.flush()\n",
    "fout.close()"
   ]
  },
  {
   "cell_type": "markdown",
   "metadata": {},
   "source": [
    "#### Prep"
   ]
  },
  {
   "cell_type": "code",
   "execution_count": 56,
   "metadata": {
    "collapsed": false
   },
   "outputs": [
    {
     "data": {
      "text/plain": [
       "'32.5'"
      ]
     },
     "execution_count": 56,
     "metadata": {},
     "output_type": "execute_result"
    }
   ],
   "source": [
    "\n",
    "repr(10 * 3.25)"
   ]
  },
  {
   "cell_type": "code",
   "execution_count": 67,
   "metadata": {
    "collapsed": false
   },
   "outputs": [
    {
     "name": "stdout",
     "output_type": "stream",
     "text": [
      "The value of PI is approximately 3.142.\n"
     ]
    }
   ],
   "source": [
    "from math import pi\n",
    "#print('This is a test for PI = %3.1f', % math.pi)\n",
    "print('The value of PI is approximately %0.3f.' % pi) # C printf style formatting"
   ]
  },
  {
   "cell_type": "code",
   "execution_count": 121,
   "metadata": {
    "collapsed": false
   },
   "outputs": [
    {
     "data": {
      "text/plain": [
       "92"
      ]
     },
     "execution_count": 121,
     "metadata": {},
     "output_type": "execute_result"
    }
   ],
   "source": [
    "#Writing to a file\n",
    "s = \"\"\"This is a the first line.\n",
    "The second line is this one.\n",
    "The third line is here.\"\"\"\n",
    "\n",
    "s = s, 89, 67\n",
    "s = str(s)\n",
    "s\n",
    "f = open('TestFile.txt', 'w')\n",
    "f.write(s) #writes contents of s and returns the number of characters written"
   ]
  },
  {
   "cell_type": "code",
   "execution_count": 123,
   "metadata": {
    "collapsed": false
   },
   "outputs": [
    {
     "data": {
      "text/plain": [
       "18"
      ]
     },
     "execution_count": 123,
     "metadata": {},
     "output_type": "execute_result"
    }
   ],
   "source": [
    "# Need to convert to string first\n",
    "value = ('the answer', 42)\n",
    "s = str(value)\n",
    "f = open('TestFile.txt', 'w')\n",
    "f.write(s) "
   ]
  },
  {
   "cell_type": "code",
   "execution_count": 260,
   "metadata": {
    "collapsed": false
   },
   "outputs": [],
   "source": [
    "#writing in binary form\n",
    "s = b\"\"\"This is a the first line.\n",
    "The second line is this one.\n",
    "The third line is here.\"\"\"\n",
    "s = bytes(s)\n",
    "f = open('TestFile.bin', 'wb')\n",
    "f.write(s)\n",
    "f.close()"
   ]
  },
  {
   "cell_type": "code",
   "execution_count": 128,
   "metadata": {
    "collapsed": true
   },
   "outputs": [],
   "source": [
    "with open('somefile.bin', 'wb') as f:\n",
    "    f.write(b'Hello World')"
   ]
  },
  {
   "cell_type": "code",
   "execution_count": 159,
   "metadata": {
    "collapsed": false
   },
   "outputs": [
    {
     "ename": "ValueError",
     "evalue": "read of closed file",
     "output_type": "error",
     "traceback": [
      "\u001b[0;31m---------------------------------------------------------------------------\u001b[0m",
      "\u001b[0;31mValueError\u001b[0m                                Traceback (most recent call last)",
      "\u001b[0;32m<ipython-input-159-e15fddfe677c>\u001b[0m in \u001b[0;36m<module>\u001b[0;34m()\u001b[0m\n\u001b[1;32m      6\u001b[0m \u001b[0mf\u001b[0m\u001b[0;34m.\u001b[0m\u001b[0mread\u001b[0m\u001b[0;34m(\u001b[0m\u001b[0;36m1\u001b[0m\u001b[0;34m)\u001b[0m\u001b[0;34m\u001b[0m\u001b[0m\n\u001b[1;32m      7\u001b[0m \u001b[0mf\u001b[0m\u001b[0;34m.\u001b[0m\u001b[0mclose\u001b[0m\u001b[0;34m(\u001b[0m\u001b[0;34m)\u001b[0m\u001b[0;34m\u001b[0m\u001b[0m\n\u001b[0;32m----> 8\u001b[0;31m \u001b[0mf\u001b[0m\u001b[0;34m.\u001b[0m\u001b[0mread\u001b[0m\u001b[0;34m(\u001b[0m\u001b[0;34m)\u001b[0m\u001b[0;34m\u001b[0m\u001b[0m\n\u001b[0m",
      "\u001b[0;31mValueError\u001b[0m: read of closed file"
     ]
    }
   ],
   "source": [
    "f = open('TestFile.txt', 'rb+')\n",
    "f.write(b'0123456789abcdef')\n",
    "f.seek(8)\n",
    "f.read(1)\n",
    "f.seek(-3, 2)\n",
    "f.read(1)\n",
    "f.close()"
   ]
  },
  {
   "cell_type": "markdown",
   "metadata": {
    "collapsed": true
   },
   "source": [
    "#### Linear algebra\n",
    "dot product\n",
    "Matrix multiplication\n",
    "matrix decomposition, e.g. qr\n",
    "Determinant of a matrix\n",
    "Inverse of a matrix\n",
    "[Linear Algebra](http://www.efunda.com/math/num_linearalgebra/num_linearalgebra.cfm)\n",
    "<img src=\"image1.gif\">"
   ]
  },
  {
   "cell_type": "code",
   "execution_count": 288,
   "metadata": {
    "collapsed": false
   },
   "outputs": [
    {
     "name": "stdout",
     "output_type": "stream",
     "text": [
      "[[ 0  1  2  3]\n",
      " [ 4  5  6  7]\n",
      " [ 8  9 10 11]]\n",
      "\n",
      "[[ 0  1  2  3]\n",
      " [ 4  5  6  7]\n",
      " [ 8  9 10 11]]\n"
     ]
    },
    {
     "data": {
      "text/plain": [
       "array([[  0,   1,   4,   9],\n",
       "       [ 16,  25,  36,  49],\n",
       "       [ 64,  81, 100, 121]])"
      ]
     },
     "execution_count": 288,
     "metadata": {},
     "output_type": "execute_result"
    }
   ],
   "source": [
    "A = np.arange(12).reshape(3,4)\n",
    "print(A)\n",
    "print()\n",
    "B = np.arange(12).reshape(3,4)\n",
    "print(B)\n",
    "C = A*B  #elementwise multiplication, matrices should have equal dimension\n",
    "C"
   ]
  },
  {
   "cell_type": "code",
   "execution_count": 10,
   "metadata": {
    "collapsed": false
   },
   "outputs": [
    {
     "data": {
      "text/plain": [
       "\"\\nprint(A)\\nprint('')\\nprint(B)\\nprint('')\\nC=np.dot(A,B)\\nprint(C)\\nprint('')\\n\\n0*0 + 1*2 + 2*4 + 3*6\\n\""
      ]
     },
     "execution_count": 10,
     "metadata": {},
     "output_type": "execute_result"
    }
   ],
   "source": [
    "A = np.arange(4).reshape(1,4)\n",
    "B = 2*np.arange(4).reshape(4,1)\n",
    "\n",
    "\n",
    "'''\n",
    "print(A)\n",
    "print('')\n",
    "print(B)\n",
    "print('')\n",
    "C=np.dot(A,B)\n",
    "print(C)\n",
    "print('')\n",
    "\n",
    "0*0 + 1*2 + 2*4 + 3*6\n",
    "'''\n",
    "\n"
   ]
  },
  {
   "cell_type": "code",
   "execution_count": 14,
   "metadata": {
    "collapsed": false
   },
   "outputs": [
    {
     "data": {
      "text/plain": [
       "\"\\nprint(A)\\nprint('')\\nprint(B)\\nprint('')\\n#2 x 4  4 x 2 -> 2 x 2\\nC=np.dot(A,B)\\nprint(C)\\nprint('')\\n\""
      ]
     },
     "execution_count": 14,
     "metadata": {},
     "output_type": "execute_result"
    }
   ],
   "source": [
    "A = np.arange(8).reshape(2,4)\n",
    "B = 2*np.arange(8).reshape(4,2)\n",
    "\n",
    "\"\"\"\n",
    "print(A)\n",
    "print('')\n",
    "print(B)\n",
    "print('')\n",
    "#2 x 4  4 x 2 -> 2 x 2\n",
    "C=np.dot(A,B)\n",
    "print(C)\n",
    "print('')\n",
    "\"\"\"\n"
   ]
  },
  {
   "cell_type": "code",
   "execution_count": 19,
   "metadata": {
    "collapsed": false
   },
   "outputs": [
    {
     "name": "stdout",
     "output_type": "stream",
     "text": [
      "[[ 1.  0.  0.  0.]\n",
      " [ 0.  1.  0.  0.]\n",
      " [ 0.  0.  1.  0.]\n",
      " [ 0.  0.  0.  1.]]\n",
      "\n",
      "[[ 0  1  2  3]\n",
      " [ 4  5  6  7]\n",
      " [ 8  9 10 11]\n",
      " [12 13 14 15]]\n",
      "\n",
      "[[  0.   1.   2.   3.]\n",
      " [  4.   5.   6.   7.]\n",
      " [  8.   9.  10.  11.]\n",
      " [ 12.  13.  14.  15.]]\n"
     ]
    }
   ],
   "source": [
    "A = np.eye(4)\n",
    "B = np.arange(16).reshape(4,4)\n",
    "print(A)\n",
    "print('')\n",
    "print(B)\n",
    "print('')\n",
    "print(np.dot(A,B))"
   ]
  },
  {
   "cell_type": "code",
   "execution_count": 38,
   "metadata": {
    "collapsed": false
   },
   "outputs": [
    {
     "data": {
      "text/plain": [
       "4.0"
      ]
     },
     "execution_count": 38,
     "metadata": {},
     "output_type": "execute_result"
    }
   ],
   "source": [
    "A = np.eye(4)\n",
    "B = np.trace(A)\n",
    "B"
   ]
  },
  {
   "cell_type": "code",
   "execution_count": 49,
   "metadata": {
    "collapsed": false
   },
   "outputs": [
    {
     "name": "stdout",
     "output_type": "stream",
     "text": [
      "[[1 2 3]\n",
      " [4 5 6]\n",
      " [7 8 9]]\n",
      "\n",
      "[1 5 9]\n",
      "\n"
     ]
    },
    {
     "data": {
      "text/plain": [
       "-1.7503765867139069"
      ]
     },
     "execution_count": 49,
     "metadata": {},
     "output_type": "execute_result"
    }
   ],
   "source": [
    "A = np.array([[1,2,3], [4,5,6],[7,8,9]])\n",
    "print(A)\n",
    "print('')\n",
    "print(np.diag(A))\n",
    "print('')\n",
    "C = np.random.rand(3,3) + A\n",
    "np.linalg.det(C) #determinant of a matrix"
   ]
  },
  {
   "cell_type": "code",
   "execution_count": 56,
   "metadata": {
    "collapsed": false
   },
   "outputs": [
    {
     "name": "stdout",
     "output_type": "stream",
     "text": [
      "[[-0.46187368 -2.30612314  1.61631312]\n",
      " [-0.85589558  8.0727573  -4.77760382]\n",
      " [ 1.04367689 -4.92923766  2.83187141]]\n",
      "\n",
      "[[ -4.50359963e+15   9.00719925e+15  -4.50359963e+15]\n",
      " [  9.00719925e+15  -1.80143985e+16   9.00719925e+15]\n",
      " [ -4.50359963e+15   9.00719925e+15  -4.50359963e+15]]\n"
     ]
    }
   ],
   "source": [
    "print(np.linalg.inv(C))\n",
    "print('')\n",
    "print(np.linalg.inv(A)) #det(A) was zero"
   ]
  },
  {
   "cell_type": "code",
   "execution_count": 71,
   "metadata": {
    "collapsed": false
   },
   "outputs": [
    {
     "name": "stdout",
     "output_type": "stream",
     "text": [
      "[[ 1.22984175  2.77104286  3.11997471]\n",
      " [ 4.64782995  5.72588714  6.75017856]\n",
      " [ 7.99852841  8.47094737  9.12651448]]\n",
      "\n",
      "[[4]\n",
      " [6]\n",
      " [3]]\n",
      "[[-1.73353838]\n",
      " [-2.93444106]\n",
      " [ 4.5716524 ]]\n",
      "\n",
      "[[  0.00000000e+00]\n",
      " [ -7.10542736e-15]\n",
      " [ -3.55271368e-15]]\n"
     ]
    },
    {
     "data": {
      "text/plain": [
       "array([[-1.73353838],\n",
       "       [-2.93444106],\n",
       "       [ 4.5716524 ]])"
      ]
     },
     "execution_count": 71,
     "metadata": {},
     "output_type": "execute_result"
    }
   ],
   "source": [
    "# Ax = b\n",
    "A = np.array([[1,2,3], [4,5,6], [7,8,9]]) + np.random.rand(3,3)\n",
    "b = np.array([[4],[6],[3]])\n",
    "print(A)\n",
    "print('')\n",
    "print(b)\n",
    "\n",
    "#x = np.array([['x1'],['x2'],['x3']])\n",
    "#print('')\n",
    "#print(x)\n",
    "\n",
    "x = np.dot(np.linalg.inv(A), b)\n",
    "print(x)\n",
    "print('')\n",
    "print(b - np.dot(A,x))\n",
    "\n",
    "# using solve()\n",
    "np.linalg.solve(A,b)"
   ]
  }
 ],
 "metadata": {
  "kernelspec": {
   "display_name": "Python 3",
   "language": "python",
   "name": "python3"
  },
  "language_info": {
   "codemirror_mode": {
    "name": "ipython",
    "version": 3
   },
   "file_extension": ".py",
   "mimetype": "text/x-python",
   "name": "python",
   "nbconvert_exporter": "python",
   "pygments_lexer": "ipython3",
   "version": "3.4.3"
  }
 },
 "nbformat": 4,
 "nbformat_minor": 0
}
