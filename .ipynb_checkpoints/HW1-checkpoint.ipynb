{
 "cells": [
  {
   "cell_type": "markdown",
   "metadata": {},
   "source": [
    "# Homework 1\n",
    "Due by 9/14/15 at 11:59pm EST\n",
    "\n",
    "-----------\n",
    "\n",
    "## Introduction\n",
    "\n",
    "Some notes here perhaps..."
   ]
  },
  {
   "cell_type": "code",
   "execution_count": 41,
   "metadata": {
    "collapsed": false
   },
   "outputs": [],
   "source": [
    "# special IPython command to prepare the notebook for matplotlib\n",
    "%matplotlib inline \n",
    "\n",
    "import numpy as np\n",
    "#import pandas as pd\n",
    "import matplotlib.pyplot as plt\n",
    "from IPython.display import Image"
   ]
  },
  {
   "cell_type": "markdown",
   "metadata": {},
   "source": [
    "## Problem 1"
   ]
  },
  {
   "cell_type": "markdown",
   "metadata": {},
   "source": [
    "#### Problem 1a \n",
    "Generate a random data set with 100 rows and 4 columns (A, B, C, D) defined as:\n",
    "- A = Normal distribution with mean = 5, variance = 3\n",
    "- B = Uniform distribution 5 to 7\n",
    "- C = A+B\n",
    "- D = A\\*B\n",
    "\n",
    "Generate the data by row using a random seed 123456789.\n"
   ]
  },
  {
   "cell_type": "code",
   "execution_count": 53,
   "metadata": {
    "collapsed": false
   },
   "outputs": [
    {
     "data": {
      "image/png": "[encoded data removed]",
      "text/plain": [
       "<matplotlib.figure.Figure at 0x1070a30b8>"
      ]
     },
     "metadata": {},
     "output_type": "display_data"
    },
    {
     "data": {
      "image/png": "[encoded data removed]",
      "text/plain": [
       "<matplotlib.figure.Figure at 0x106a7dcf8>"
      ]
     },
     "metadata": {},
     "output_type": "display_data"
    },
    {
     "data": {
      "image/png": "[encoded data removed]",
      "text/plain": [
       "<matplotlib.figure.Figure at 0x1070a3dd8>"
      ]
     },
     "metadata": {},
     "output_type": "display_data"
    },
    {
     "data": {
      "image/png": "[encoded data removed]",
      "text/plain": [
       "<matplotlib.figure.Figure at 0x106b17cf8>"
      ]
     },
     "metadata": {},
     "output_type": "display_data"
    },
    {
     "name": "stdout",
     "output_type": "stream",
     "text": [
      "[  5.2019748    5.85846554  11.06044034  30.58512412]\n"
     ]
    }
   ],
   "source": [
    "## your code here\n",
    "np.random.seed(123456789)\n",
    "\n",
    "A = np.random.normal(5, np.sqrt(3), 100)\n",
    "#print(np.mean(A))\n",
    "#print(np.var(A), '\\n')\n",
    "%matplotlib inline \n",
    "plt.hist(A, 30, normed=True)\n",
    "plt.show()\n",
    "\n",
    "B = np.random.uniform(5, 7, 100)\n",
    "#print(np.mean(B), '\\n')\n",
    "plt.hist(B, 30, normed=True)\n",
    "plt.show()\n",
    "\n",
    "C = A+B\n",
    "#print(np.mean(C), '\\n')\n",
    "plt.hist(C, 30, normed=True)\n",
    "plt.show()\n",
    "\n",
    "D = A*B\n",
    "#print(np.mean(D), '\\n')\n",
    "plt.hist(D, 30, normed=True)\n",
    "plt.show()\n",
    "\n",
    "\n",
    "M = np.array([A, B, C, D])\n",
    "M = M.T\n",
    "#print(M, '\\n')\n",
    "\n",
    "print(np.mean(M, 0))\n",
    "#M2 = np.arange(20).reshape(5,4)\n",
    "#print(M2)"
   ]
  },
  {
   "cell_type": "markdown",
   "metadata": {},
   "source": [
    "#### Problem 1b\n",
    "Compute the correlation coefficient and sample covariance between the 4 variables.  That is, write the actual loop rather than call the correlation or covariance functions. Then print these matrices. Is either matrix symmetric? "
   ]
  },
  {
   "cell_type": "code",
   "execution_count": 2,
   "metadata": {
    "collapsed": false
   },
   "outputs": [
    {
     "name": "stdout",
     "output_type": "stream",
     "text": [
      "0.109534024347 \n",
      "\n",
      "[[ 2.73496624  2.84560667]\n",
      " [ 2.84560667  3.25228102]] \n",
      "\n",
      "[[   2.70761658    0.10953402    2.8171506    16.36572767]\n",
      " [   0.10953402    0.29307359    0.40260761    2.22102524]\n",
      " [   2.8171506     0.40260761    3.21975821   18.58675292]\n",
      " [  16.36572767    2.22102524   18.58675292  108.06537463]] \n",
      "\n",
      "[[ 0.99        0.12173132  0.94458283  0.94718247]\n",
      " [ 0.12173132  0.99        0.41031482  0.39071228]\n",
      " [ 0.94458283  0.41031482  0.99        0.98646983]\n",
      " [ 0.94718247  0.39071228  0.98646983  0.99      ]] \n",
      "\n"
     ]
    }
   ],
   "source": [
    "## your code here\n",
    "np.random.seed(123456789)\n",
    "A = np.random.normal(5, np.sqrt(3), 100);\n",
    "B = np.random.uniform(5, 7, 100);\n",
    "C = A+B;\n",
    "D = A*B;\n",
    "\n",
    "def meanX(X):\n",
    "    muX = 0\n",
    "    for i in range(len(X)):\n",
    "        muX += X[i];\n",
    "    return muX/len(X)\n",
    "    \n",
    "\n",
    "def std_X(X):\n",
    "    stdX = 0\n",
    "    muX = meanX(X)\n",
    "    for i in range(len(X)):\n",
    "        stdX += (X[i] - muX)**2\n",
    "    return np.sqrt(stdX/(len(X) - 1))\n",
    "\n",
    "def cov_XY(X, Y):\n",
    "    if len(X) != len(Y):\n",
    "        print('Error: unequal lengths')\n",
    "        return\n",
    "    \n",
    "    muX = meanX(X)\n",
    "    muY = meanX(Y)\n",
    "    covXY = 0;\n",
    "    for i in range(len(X)):\n",
    "        covXY += (X[i] - muX)*(Y[i] - muY)\n",
    "    return covXY/len(X-1)\n",
    "\n",
    "covAB = cov_XY(A,B)\n",
    "\n",
    "print(covAB, '\\n')\n",
    "print(np.cov(A,C), '\\n')\n",
    "\n",
    "def corr_XY(X,Y):\n",
    "    corrXY = cov_XY(X,Y)/(std_X(X)*std_X(Y))\n",
    "    return corrXY\n",
    "\n",
    "covM = np.array([[cov_XY(A,A), cov_XY(A,B), cov_XY(A,C), cov_XY(A,D)],\n",
    "                 [cov_XY(B,A), cov_XY(B,B), cov_XY(B,C), cov_XY(B,D)],\n",
    "                 [cov_XY(C,A), cov_XY(C,B), cov_XY(C,C), cov_XY(C,D)],\n",
    "                 [cov_XY(D,A), cov_XY(D,B), cov_XY(D,C), cov_XY(D,D)]])\n",
    "    \n",
    "print(covM, '\\n')\n",
    "\n",
    "corrM = np.array([[corr_XY(A,A), corr_XY(A,B), corr_XY(A,C), corr_XY(A,D)],\n",
    "                 [corr_XY(B,A), corr_XY(B,B), corr_XY(B,C), corr_XY(B,D)],\n",
    "                 [corr_XY(C,A), corr_XY(C,B), corr_XY(C,C), corr_XY(C,D)],\n",
    "                 [corr_XY(D,A), corr_XY(D,B), corr_XY(D,C), corr_XY(D,D)]])\n",
    "\n",
    "print(corrM, '\\n')"
   ]
  },
  {
   "cell_type": "markdown",
   "metadata": {},
   "source": [
    "## Problem 2"
   ]
  },
  {
   "cell_type": "markdown",
   "metadata": {},
   "source": [
    "####Problem 2a\n",
    "Draw 30 samples from a Poisson distribution with lambda = 7  using random seed 123456789."
   ]
  },
  {
   "cell_type": "code",
   "execution_count": 9,
   "metadata": {
    "collapsed": false
   },
   "outputs": [
    {
     "name": "stdout",
     "output_type": "stream",
     "text": [
      "[10  3  3 10 12  7  7  6  8  6  5  5  7 10  8  7  6  7  8  5  9  4  7  4  4\n",
      "  5  6  7  5  5]\n"
     ]
    },
    {
     "data": {
      "image/png": "[encoded data removed]",
      "text/plain": [
       "<matplotlib.figure.Figure at 0x1066bdeb8>"
      ]
     },
     "metadata": {},
     "output_type": "display_data"
    }
   ],
   "source": [
    "## your code here\n",
    "np.random.seed(123456789)\n",
    "#p = np.random.poisson(7, 10000)\n",
    "p = np.random.poisson(7, 30)\n",
    "print(p)\n",
    "plt.hist(p, 10, normed=True)\n",
    "plt.show()"
   ]
  },
  {
   "cell_type": "markdown",
   "metadata": {},
   "source": [
    "#### Problem 2b\n",
    "Define two functions to compute the mean and median.  That is, do not call the mean or median function, but write the code.  "
   ]
  },
  {
   "cell_type": "code",
   "execution_count": 7,
   "metadata": {
    "collapsed": false
   },
   "outputs": [
    {
     "data": {
      "text/plain": [
       "3.0"
      ]
     },
     "execution_count": 7,
     "metadata": {},
     "output_type": "execute_result"
    }
   ],
   "source": [
    "\"\"\"\n",
    "Function\n",
    "--------\n",
    "Mean\n",
    "\n",
    "Return an integer that is the computed\n",
    "arithmetic mean of the input array\n",
    "\n",
    "Parameters\n",
    "----------\n",
    "values : array[int]\n",
    "    The array of values\n",
    "\n",
    "Returns\n",
    "-------\n",
    "an int\n",
    "   an integer that is the computed \n",
    "   arithmetic mean\n",
    "\n",
    "Example\n",
    "-------\n",
    ">>> mean([1,2,3,4,5])\n",
    "\"\"\"\n",
    "## your code here\n",
    "def mean(X):\n",
    "    muX = 0\n",
    "    for i in range(len(X)):\n",
    "        muX += X[i];\n",
    "    return muX/len(X)\n",
    "\n",
    "mean([1,2,3,4,5])"
   ]
  },
  {
   "cell_type": "code",
   "execution_count": 3,
   "metadata": {
    "collapsed": false
   },
   "outputs": [
    {
     "data": {
      "text/plain": [
       "3.5"
      ]
     },
     "execution_count": 3,
     "metadata": {},
     "output_type": "execute_result"
    }
   ],
   "source": [
    "\"\"\"\n",
    "Function\n",
    "--------\n",
    "Median\n",
    "\n",
    "Return an integer that is the computed\n",
    "arithmetic median of the input array\n",
    "\n",
    "Parameters\n",
    "----------\n",
    "values : array[int]\n",
    "    The array of values\n",
    "\n",
    "Returns\n",
    "-------\n",
    "an int\n",
    "   an integer that is the computed \n",
    "   arithmetic median\n",
    "\n",
    "Example\n",
    "-------\n",
    ">>> median([1,2,3,4,5])\n",
    "\"\"\"\n",
    "## your code here\n",
    "def median(X):\n",
    "    X = np.sort(X)  #Q: allowed?\n",
    "    N = len(X)\n",
    "    if N%2 == 0:\n",
    "        return (X[N//2 - 1] + X[N//2])/2\n",
    "    else:\n",
    "        return X[(N-1)//2]\n",
    "    \n",
    "median([1,2,3,4,5,6])\n",
    "\n",
    "#Q skewness"
   ]
  },
  {
   "cell_type": "markdown",
   "metadata": {},
   "source": [
    "####Problem 2c\n",
    "Use the functions you just defined to calculate the mean and median of the samples collected in problem 2a.  Is the distribution of values skewed left, right, or neither? Is it skewed positive, negative, or neither?"
   ]
  },
  {
   "cell_type": "code",
   "execution_count": 32,
   "metadata": {
    "collapsed": false
   },
   "outputs": [
    {
     "name": "stdout",
     "output_type": "stream",
     "text": [
      "6.53333333333\n",
      "6.5\n"
     ]
    }
   ],
   "source": [
    "## your code here\n",
    "p_mean = mean(p)\n",
    "print(p_mean)\n",
    "p_median = median(p)\n",
    "print(p_median)"
   ]
  },
  {
   "cell_type": "markdown",
   "metadata": {},
   "source": [
    "## Problem 3\n",
    "Over the course of a two week period, my mailman delivered [5, 3, 4, 3, 6, 7, 2, 2, 3] pieces of mail each weekday.  On the last Friday, I received no mail.  My theory is that he took the day off.  "
   ]
  },
  {
   "cell_type": "markdown",
   "metadata": {},
   "source": [
    "####Problem 3a\n",
    "Assuming a normal distribution from the first 9 days, what is the probability of receiving no mail on that last Friday?   (Don’t overthink this problem)  "
   ]
  },
  {
   "cell_type": "code",
   "execution_count": 55,
   "metadata": {
    "collapsed": false
   },
   "outputs": [
    {
     "name": "stdout",
     "output_type": "stream",
     "text": [
      "3.888888888888889\n",
      "1.76383420738\n"
     ]
    },
    {
     "data": {
      "image/png": "[encoded data removed]",
      "text/plain": [
       "<matplotlib.figure.Figure at 0x106b81dd8>"
      ]
     },
     "metadata": {},
     "output_type": "display_data"
    },
    {
     "name": "stdout",
     "output_type": "stream",
     "text": [
      "[-0.89993089 -0.58149171 -0.26305253  0.05538665  0.37382583  0.69226501\n",
      "  1.01070419  1.32914337  1.64758255  1.96602173  2.28446091  2.60290009\n",
      "  2.92133927  3.23977845  3.55821762  3.8766568   4.19509598  4.51353516\n",
      "  4.83197434  5.15041352  5.4688527   5.78729188  6.10573106  6.42417024\n",
      "  6.74260942  7.0610486   7.37948778  7.69792696  8.01636614  8.33480532\n",
      "  8.6532445 ] \n",
      "\n",
      "[ 0.03140317  0.          0.          0.          0.12561268  0.06280634\n",
      "  0.06280634  0.06280634  0.06280634  0.12561268  0.18841903  0.18841903\n",
      "  0.28262854  0.25122537  0.25122537  0.31403171  0.34543488  0.09420951\n",
      "  0.06280634  0.18841903  0.06280634  0.06280634  0.03140317  0.03140317\n",
      "  0.09420951  0.03140317  0.06280634  0.03140317  0.          0.03140317] \n",
      "\n",
      "<a list of 30 Patch objects>\n"
     ]
    },
    {
     "data": {
      "text/plain": [
       "[<matplotlib.lines.Line2D at 0x106855278>]"
      ]
     },
     "execution_count": 55,
     "metadata": {},
     "output_type": "execute_result"
    },
    {
     "data": {
      "image/png": "[encoded data removed]",
      "text/plain": [
       "<matplotlib.figure.Figure at 0x107078208>"
      ]
     },
     "metadata": {},
     "output_type": "display_data"
    }
   ],
   "source": [
    "## your code here\n",
    "#import math\n",
    "from math import exp, sqrt, pi\n",
    "X = [5, 3, 4, 3, 6, 7, 2, 2, 3]\n",
    "mail_mean = mean(X)\n",
    "mail_std = std_X(X)\n",
    "#print(pi)\n",
    "def gaus(x, mu, sd):\n",
    "    return exp(-((x - mu)**2)/(2*sd**2)) /sqrt(2*pi*sd**2)\n",
    "\n",
    "print(mail_mean)\n",
    "print(mail_std)\n",
    "gaus(0, mail_mean, mail_std) #probability density\n",
    "\n",
    "g = np.random.normal(mail_mean, mail_std, 100)\n",
    "count, bins, ignored = plt.hist(g, 30, normed=True)\n",
    "plt.plot(bins, 1/(mail_std  * np.sqrt(2 * np.pi)) * \n",
    "         np.exp( - (bins - mail_mean )**2 / (2 * mail_std**2) ), \n",
    "         linewidth=2, color='r')\n",
    "\n",
    "\n",
    "#print(len(cm), len(count), len(bins))\n",
    "#plt.hist(g, 100, normed=True)\n",
    "plt.show()\n",
    "\n",
    "print(bins,'\\n')\n",
    "print(count, '\\n')\n",
    "print(ignored)\n",
    "\n",
    "cm = np.cumsum(count)\n",
    "plt.plot(cm, linewidth=2, color='b')\n",
    "\n",
    "# Note on the use of math vs np\n",
    "# math.sqrt vs np.sqrt -- math for scalar and np for array -- vectorized and is faster."
   ]
  },
  {
   "cell_type": "markdown",
   "metadata": {},
   "source": [
    "#### Problem 3b\n",
    "Are there any issues with using a normal distribution for this problem?"
   ]
  },
  {
   "cell_type": "markdown",
   "metadata": {},
   "source": [
    "**Response:**"
   ]
  },
  {
   "cell_type": "code",
   "execution_count": null,
   "metadata": {
    "collapsed": true
   },
   "outputs": [],
   "source": []
  },
  {
   "cell_type": "markdown",
   "metadata": {},
   "source": [
    "## Problem 4\n",
    "Alzheimer’s Disease is a terrible affliction affecting 5.3 million of the 319 million people in this country and is the only top-10 cause of death in this country that cannot be prevented, cured, or slowed (www.alz.org/facts).   Researchers have developed a new method for predicting Alzheimer’s, but like most medical tests, it is not perfect.  "
   ]
  },
  {
   "cell_type": "markdown",
   "metadata": {},
   "source": [
    "If a patient has Alzheimer’s there is a 75% chance of a positive prediction.  If they don’t have Alzheimer’s the chance of a positive prediction is 20%.   Compute the probability of having Alzheimer’s if the prediction is positive.  Show your work."
   ]
  },
  {
   "cell_type": "code",
   "execution_count": null,
   "metadata": {
    "collapsed": true
   },
   "outputs": [],
   "source": [
    "## your code here"
   ]
  },
  {
   "cell_type": "markdown",
   "metadata": {},
   "source": [
    "## Problem 5\n",
    "Given the matrices below, compute (A + B’)\\*C"
   ]
  },
  {
   "cell_type": "markdown",
   "metadata": {},
   "source": [
    "<img src='hw1p5.png'>"
   ]
  },
  {
   "cell_type": "code",
   "execution_count": null,
   "metadata": {
    "collapsed": true
   },
   "outputs": [],
   "source": [
    "## your code here"
   ]
  },
  {
   "cell_type": "markdown",
   "metadata": {},
   "source": [
    "## Problem 6\n",
    "The Monty Hall problem as discussed in lecture came from a popular game show—this is a variation since I recently learned the same problem was covered in the Data Science course.   The contestant is faced with a choice of **7** doors.  Behind **5** of the doors, there is a goat; a car lies behind the other **2** doors.  The contestant chooses one door but cannot look behind it.  The host opens two of the other doors.  The choice is whether the contestant should keep the initial choice or switch to one of the other closed doors.  Simulate this using python code over 1000 iterations.  Without loss of generality, you can assume that the contestant choice is always door A.  The position of the cars is random with each iteration.   Compute the chance of winning with each strategy:  keeping the initial choice, or switching doors."
   ]
  },
  {
   "cell_type": "code",
   "execution_count": null,
   "metadata": {
    "collapsed": true
   },
   "outputs": [],
   "source": [
    "## your code here"
   ]
  }
 ],
 "metadata": {
  "kernelspec": {
   "display_name": "Python 3",
   "language": "python",
   "name": "python3"
  },
  "language_info": {
   "codemirror_mode": {
    "name": "ipython",
    "version": 3
   },
   "file_extension": ".py",
   "mimetype": "text/x-python",
   "name": "python",
   "nbconvert_exporter": "python",
   "pygments_lexer": "ipython3",
   "version": "3.4.3"
  }
 },
 "nbformat": 4,
 "nbformat_minor": 0
}
