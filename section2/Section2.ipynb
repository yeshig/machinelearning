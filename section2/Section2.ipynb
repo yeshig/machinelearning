{
 "cells": [
  {
   "cell_type": "markdown",
   "metadata": {},
   "source": [
    "# Section 2: Numerical Python (NumPy) Basics"
   ]
  },
  {
   "cell_type": "markdown",
   "metadata": {
    "slideshow": {
     "slide_type": "-"
    }
   },
   "source": [
    "### NumPy - Numerical Python for high performance computing and data analysis. \n",
    "    * One of the packages in scientific python echosystem\n",
    "        * Others (iPython, SciPy, Pandas, matplotlib, ...)\n",
    "#### Numpy provides \n",
    "    * ndarray - fast and efficient multidimensional array object\n",
    "    * mathematical operations\n",
    "    * Tools for reading/writing array data\n",
    "    * Linear algebra\n",
    "    * Others (random number generation, FFT, integration with C/C++\n",
    "#### Lists, Core Python Arrays, Numpy Arrays \n",
    "    list         - allows heterogeneous data\n",
    "    python array - only homogeneous data\n",
    "    numpy array  - highly versatile (stores list of numerica data - vectors, matrices; \n",
    "                   handles large data set efficiently\n"
   ]
  },
  {
   "cell_type": "code",
   "execution_count": null,
   "metadata": {
    "collapsed": false
   },
   "outputs": [],
   "source": [
    "L = [12., 'foo', 'bar', 5]\n",
    "print(L)\n",
    "import array as ar\n",
    "a = ar.array('i',[1, 2,3,4]) # i signed integer\n",
    "print(a)"
   ]
  },
  {
   "cell_type": "markdown",
   "metadata": {},
   "source": [
    "#### Numpy vs Math modules\n",
    "    Numpy has many of the same function as Math module, but Numpy is more extensive."
   ]
  },
  {
   "cell_type": "code",
   "execution_count": null,
   "metadata": {
    "collapsed": false
   },
   "outputs": [],
   "source": [
    "import math\n",
    "a = [0, 4,9,16]\n",
    "b = [math.sqrt(a[i]) for i in range(len(a))]  #elementwise\n",
    "print(b)"
   ]
  },
  {
   "cell_type": "markdown",
   "metadata": {},
   "source": [
    "#### MATLAB users (NumPy + SciPy form reasonable computational replacement for much of MATLAB):\n",
    "   [Useful link that compares MATLAB and numpy](http://mathesaurus.sourceforge.net/matlab-numpy.html)\n",
    "   \n",
    "#### Just in case ... iPython notebook\n",
    "    * May consider navigating to anaconda Working directory [optional]\n",
    "    * Activate python 3.4 version\n",
    "        e.g., source activate py34 \n",
    "    * Open iPython notebook\n",
    "        e.g., ipython notebook [Section2.ipynb]\n",
    "#### Missing packages? - use conda package management system\n",
    "    * conda install numpy\n",
    "    * conda install matplotlib"
   ]
  },
  {
   "cell_type": "markdown",
   "metadata": {},
   "source": [
    "#### Importing Numpy and creating arrays"
   ]
  },
  {
   "cell_type": "code",
   "execution_count": 4,
   "metadata": {
    "collapsed": false
   },
   "outputs": [],
   "source": [
    "import numpy as np"
   ]
  },
  {
   "cell_type": "markdown",
   "metadata": {},
   "source": [
    "#### Creating arrays"
   ]
  },
  {
   "cell_type": "code",
   "execution_count": null,
   "metadata": {
    "collapsed": true
   },
   "outputs": [],
   "source": [
    "a = np.array([3, 5, 7, 9]) # 1D array\n",
    "b = np.array([[4,5,6,2], [7,3,4,1]]) # 2D array: 2 rows X 4 columns\n",
    "print(a,'\\n')\n",
    "print(b)"
   ]
  },
  {
   "cell_type": "markdown",
   "metadata": {},
   "source": [
    "ndarray indexing and ranges m:n - array indices begin at 0; ranges refer from m to n-1"
   ]
  },
  {
   "cell_type": "code",
   "execution_count": null,
   "metadata": {
    "collapsed": false
   },
   "outputs": [],
   "source": [
    "a = np.array([7, 4,5,2,8,1,9,0,2]) \n",
    "b = np.array([[4,5,6,2], [7,3,4,1]]) # 2D array: 2 rows X 4 columns\n",
    "print(a[2:5])\n",
    "print('')\n",
    "print(a[5:])\n",
    "print('')\n",
    "print(a[:4])\n",
    "print('')\n",
    "\n",
    "print(b, '\\n')\n",
    "print(b[1,3])\n",
    "print('')\n",
    "print(b[:,2])"
   ]
  },
  {
   "cell_type": "markdown",
   "metadata": {},
   "source": [
    "#### Numpy functions for creating arrays of zero's and one's "
   ]
  },
  {
   "cell_type": "code",
   "execution_count": null,
   "metadata": {
    "collapsed": false
   },
   "outputs": [],
   "source": [
    "a = np.zeros(10) #creates arrays of 10 zeros\n",
    "print(a,'\\n')\n",
    "b = np.zeros((4,3)) #Pass tuples to create  matrix \n",
    "print(b,'\\n')\n",
    "c = np.ones((3,4), dtype = np.int64) \n",
    "print(c, '\\n')\n",
    "print(6*c, '\\n')\n",
    "d = np.eye(4, dtype = np.float64) # Identity matrix\n",
    "print(d)"
   ]
  },
  {
   "cell_type": "markdown",
   "metadata": {},
   "source": [
    "#### Empty ndarray"
   ]
  },
  {
   "cell_type": "code",
   "execution_count": null,
   "metadata": {
    "collapsed": false
   },
   "outputs": [],
   "source": [
    "a = np.empty((5,3), dtype = np.float64)\n",
    "print(a)"
   ]
  },
  {
   "cell_type": "markdown",
   "metadata": {},
   "source": [
    "#### Creating arrays with numpy arange()"
   ]
  },
  {
   "cell_type": "code",
   "execution_count": null,
   "metadata": {
    "collapsed": false
   },
   "outputs": [],
   "source": [
    "d = np.arange(6) # array-valued python range function\n",
    "print(d,'\\n')\n",
    "d2 = np.arange(-4, 4, 0.5)\n",
    "print(d2,'\\n')\n",
    "d3 = np.arange(15, 8, -1)\n",
    "print(d3)"
   ]
  },
  {
   "cell_type": "markdown",
   "metadata": {},
   "source": [
    "#### Creating arrays with numpy linspace() and logspace()"
   ]
  },
  {
   "cell_type": "code",
   "execution_count": null,
   "metadata": {
    "collapsed": false
   },
   "outputs": [],
   "source": [
    "a = np.linspace(-2, 2,10)\n",
    "print(a, '\\n')\n",
    "b = np.logspace(0, 3,5)\n",
    "print(b, '\\n')"
   ]
  },
  {
   "cell_type": "markdown",
   "metadata": {},
   "source": [
    "#### Casting to int, round() and floor()"
   ]
  },
  {
   "cell_type": "code",
   "execution_count": null,
   "metadata": {
    "collapsed": false,
    "scrolled": true
   },
   "outputs": [],
   "source": [
    "arr = np.array([3.7, -1.5, 2.8, -4.6], dtype=np.float64)\n",
    "print(arr, '\\n')\n",
    "arr2 = arr.astype(np.int32)\n",
    "print(arr2,'\\n')\n",
    "arr3 = np.round(arr)\n",
    "print(arr3,'\\n')\n",
    "arr4 = np.floor(arr)\n",
    "print(arr4, '\\n')\n"
   ]
  },
  {
   "cell_type": "markdown",
   "metadata": {},
   "source": [
    "#### String to float casting"
   ]
  },
  {
   "cell_type": "code",
   "execution_count": null,
   "metadata": {
    "collapsed": false
   },
   "outputs": [],
   "source": [
    "arr = np.array(['3.7', '-1.5', '2.8', '-4.6'], dtype = np.string_)\n",
    "arr2 = arr.astype(float) # python recognizes it as arr.astype(np.float64)\n",
    "arr2"
   ]
  },
  {
   "cell_type": "markdown",
   "metadata": {
    "collapsed": true
   },
   "source": [
    "#### Vectorization - \n",
    "multidimensional arrays allow us operations on data they contain with out the need to write loops such as for loops - a process known as vectorization\n",
    "vectorization \n",
    "- replacing explicit loops with array expression \n",
    "- vectorized array operations are faster "
   ]
  },
  {
   "cell_type": "markdown",
   "metadata": {},
   "source": [
    "####  1D numpy array - elementwise operations"
   ]
  },
  {
   "cell_type": "code",
   "execution_count": null,
   "metadata": {
    "collapsed": false
   },
   "outputs": [],
   "source": [
    "a1 = np.array([2.5, 5., 3.2])\n",
    "print(a1,'\\n')\n",
    "a2  = 2*np.ones(3)\n",
    "print(a2,'\\n')\n",
    "a3 = a1*a2  # element by element multiplication MATLAB a1.*a2\n",
    "print(a3, '\\n')\n",
    "a4 = 1/a1 # element-by-elemnt division similar to MATLAB 1./a1\n",
    "print(a4, '\\n')\n",
    "#a4 = np.dot(a1,a2) #Dot product of two vectors a1 and a2\n",
    "#a4\n",
    "[1/2.5, 1/5, 1/3.2]"
   ]
  },
  {
   "cell_type": "markdown",
   "metadata": {
    "collapsed": true
   },
   "source": [
    "####  2D array - elementwise operations"
   ]
  },
  {
   "cell_type": "code",
   "execution_count": null,
   "metadata": {
    "collapsed": false
   },
   "outputs": [],
   "source": [
    "b1 = np.array([[1,2,3], [4,5,6], [6,7,8]])\n",
    "print(b1)\n",
    "print('')\n",
    "b2  = 2*b1\n",
    "print(b2)\n",
    "print('')\n",
    "b3 = b1*b2  # element by element multiplication MATLAB b1.*b2\n",
    "print(b3)\n",
    "print('')\n",
    "b4 = 1/b1 # element-by-elemnt division similar to MATLAB 1./a1\n",
    "print(b4)\n",
    "print('')\n",
    "b5 = b1 ** 2 #elementwise squaring\n",
    "print(b5)"
   ]
  },
  {
   "cell_type": "markdown",
   "metadata": {},
   "source": [
    "Array indexing and slicing. \n",
    "- More on indexing can also be found at the \n",
    "[link](http://docs.scipy.org/doc/numpy/reference/arrays.indexing.html)"
   ]
  },
  {
   "cell_type": "code",
   "execution_count": null,
   "metadata": {
    "collapsed": false
   },
   "outputs": [],
   "source": [
    "print(b5)\n",
    "print('')\n",
    "print(b5[2,2])\n",
    "print(b5[2])\n",
    "print(b5[2][2])\n",
    "print(b5[2,:])\n",
    "print(b5[:,2])\n",
    "b5[:,0:2]\n",
    "b5[1:3, 0:2]\n",
    "b5[:, 1:]\n",
    "b5[1:,:2] = 0\n",
    "b5"
   ]
  },
  {
   "cell_type": "markdown",
   "metadata": {},
   "source": [
    "#### Deep copy of an array"
   ]
  },
  {
   "cell_type": "code",
   "execution_count": null,
   "metadata": {
    "collapsed": false
   },
   "outputs": [],
   "source": [
    "arr = np.array([0, 1, 2,3,4,5,6,7,8])\n",
    "arr[3:6] = 23 #assign a scalar value to a slice of array - the value is broadcasted\n",
    "print(arr,'\\n')\n",
    "\n",
    "arr2 = arr[3:6] #array slices are views on the original data. Data is not copied\n",
    "print(arr2)\n",
    "arr2[2] = 78 #changes on the slice affects the original data\n",
    "print(arr2)\n",
    "\n",
    "print(arr)\n",
    "arr3 = arr[3:6].copy() #for explicitly copying the array slice\n",
    "print(arr3)\n",
    "\n",
    "arr3[2] = 100\n",
    "print(arr3)\n",
    "print(arr)"
   ]
  },
  {
   "cell_type": "markdown",
   "metadata": {},
   "source": [
    "#### 3D numpy array"
   ]
  },
  {
   "cell_type": "code",
   "execution_count": null,
   "metadata": {
    "collapsed": false
   },
   "outputs": [],
   "source": [
    "arr3d = np.array([[[1,2,3],[4,5,6],[7,8,9]],[[11,12,13], [14,15,16],[17,18,19]]])\n",
    "print(arr3d)\n",
    "print('')\n",
    "print(arr3d[1,2,1])\n",
    "print('')\n",
    "print(arr3d.shape)\n",
    "print(arr3d[1])"
   ]
  },
  {
   "cell_type": "markdown",
   "metadata": {},
   "source": [
    "#### Random number generators in Python:\n",
    "- randn\n",
    "- Boolean array can be passed when indexing an array"
   ]
  },
  {
   "cell_type": "code",
   "execution_count": null,
   "metadata": {
    "collapsed": false
   },
   "outputs": [],
   "source": [
    "np.random.seed(1234)\n",
    "r1 = np.random.randn(7,4)\n",
    "print(r1)\n",
    "print('')\n",
    "\n",
    "mybool = np.array([True, False, True, False, False, False, False]) \n",
    "#print(r1[mybool, :])\n",
    "print('')\n",
    "\n",
    "names = np.array(['Bob', 'Will', 'Jack', 'Bob', 'Mark', 'Tom', 'Lisa'])\n",
    "#print(r1[names == 'Bob'])\n",
    "print('')\n",
    "\n",
    "#print(r1[names=='Bob', 2:])\n",
    "print(r1[:, names=='Bob'])\n",
    "print('')\n",
    "print(r1[names != 'Bob'])\n",
    "print('')\n",
    "mnames = (names == 'Bob') | (names == 'Will')\n",
    "print(r1[mnames])\n",
    "print('')\n",
    "\n",
    "r1[r1 < 0] = 0 #Tests ans sets all values less than zero to 0.\n",
    "r2 = r1\n",
    "print(r2)\n",
    "r2[names != 'Bob'] = 10\n",
    "print(r2)"
   ]
  },
  {
   "cell_type": "markdown",
   "metadata": {},
   "source": [
    "Fancy indexing "
   ]
  },
  {
   "cell_type": "code",
   "execution_count": null,
   "metadata": {
    "collapsed": false
   },
   "outputs": [],
   "source": [
    "arr = np.empty((8,4))\n",
    "for i in range(8):\n",
    "    arr[i] = i\n",
    "print(arr)\n",
    "print('')\n",
    "print(arr[[4, 6, 0, 2]]) #selects particular arrays in the list\n",
    "print('')\n",
    "print(arr[[-3, -5, -7]])"
   ]
  },
  {
   "cell_type": "markdown",
   "metadata": {},
   "source": [
    "#### Reshape() and Transposing Arrays"
   ]
  },
  {
   "cell_type": "code",
   "execution_count": null,
   "metadata": {
    "collapsed": false
   },
   "outputs": [],
   "source": [
    "ar1 = np.arange(15)\n",
    "print(ar1, '\\n')\n",
    "\n",
    "ar2 = np.arange(15).reshape(3,5)\n",
    "print(ar2, '\\n')\n",
    "\n",
    "\n",
    "print(ar2.swapaxes(0,1)) #returns a view without making a copy\n",
    "print('')\n",
    "print(ar2.T) #returns the transpose of ar2\n"
   ]
  },
  {
   "cell_type": "markdown",
   "metadata": {},
   "source": [
    "Elementwise array functions"
   ]
  },
  {
   "cell_type": "code",
   "execution_count": null,
   "metadata": {
    "collapsed": false
   },
   "outputs": [],
   "source": [
    "#unary functions (ufuncs)\n",
    "print(np.sqrt(4))\n",
    "print(np.sqrt([4,9]))"
   ]
  },
  {
   "cell_type": "markdown",
   "metadata": {},
   "source": [
    "#### Max/min of 1D array"
   ]
  },
  {
   "cell_type": "code",
   "execution_count": null,
   "metadata": {
    "collapsed": false
   },
   "outputs": [],
   "source": [
    "x = np.random.randn(5)\n",
    "print(x)\n",
    "print('')\n",
    "print(np.amax(x)) #maximum of an array\n",
    "print('')\n",
    "print(np.amin(x)) #min of an array"
   ]
  },
  {
   "cell_type": "markdown",
   "metadata": {},
   "source": [
    "#### Max/min of 2D array"
   ]
  },
  {
   "cell_type": "code",
   "execution_count": null,
   "metadata": {
    "collapsed": false
   },
   "outputs": [],
   "source": [
    "z = np.random.randn(12).reshape(4,3)\n",
    "print(z)\n",
    "print('')\n",
    "print(np.amax(z,0)) # 0 maximum along the column and 1 for maximum along the row \n",
    "print('')"
   ]
  },
  {
   "cell_type": "markdown",
   "metadata": {},
   "source": [
    "### Matplotlib"
   ]
  },
  {
   "cell_type": "code",
   "execution_count": null,
   "metadata": {
    "collapsed": false
   },
   "outputs": [],
   "source": [
    "import matplotlib.pyplot as plt\n",
    "y = np.random.randn(10000) #python normal distribution for standard normal (mean = 0, var = 1)\n",
    "\n",
    "%matplotlib inline  \n",
    "plt.hist(y)\n",
    "plt.title('Normal Distribution')\n",
    "plt.xlabel('x')\n",
    "plt.ylabel('prob')\n",
    "plt.show()"
   ]
  },
  {
   "cell_type": "code",
   "execution_count": null,
   "metadata": {
    "collapsed": false
   },
   "outputs": [],
   "source": [
    "# Surface plot\n",
    "x = np.arange(-4, 4, 0.2);\n",
    "y = np.arange(-4, 4, 0.2);\n",
    "xs, ys = np.meshgrid(x,y)\n",
    "z = np.sqrt(xs**2 + ys**2)\n",
    "\n",
    "plt.contour(xs, ys, z)\n",
    "plt.show()\n",
    "\n",
    "plt.imshow(z, cmap=plt.cm.gray); plt.colorbar()\n",
    "plt.show()\n",
    "\n",
    "from mpl_toolkits.mplot3d import axes3d\n",
    "import matplotlib.pyplot as plt\n",
    "\n",
    "fig = plt.figure()\n",
    "ax = fig.add_subplot(111, projection='3d')\n",
    "\n",
    "#ax.plot_wireframe(xs,ys,z, rstride=10, cstride=10)\n",
    "ax.plot_surface(xs,ys,z, rstride=10, cstride=10)\n",
    "#ax.contour(xs, ys, z)\n",
    "\n",
    "plt.show()\n",
    "#http://matplotlib.org/mpl_toolkits/mplot3d/tutorial.html#wireframe-plots\n",
    "#http://matplotlib.org/api/pyplot_api.html#matplotlib.pyplot.plot"
   ]
  },
  {
   "cell_type": "code",
   "execution_count": null,
   "metadata": {
    "collapsed": false
   },
   "outputs": [],
   "source": [
    "import matplotlib as mpl\n",
    "from mpl_toolkits.mplot3d import Axes3D\n",
    "import matplotlib.pyplot as plt\n",
    "\n",
    "mpl.rcParams['legend.fontsize'] = 10\n",
    "\n",
    "fig = plt.figure()\n",
    "ax = fig.gca(projection='3d')\n",
    "theta = np.linspace(-4 * np.pi, 4 * np.pi, 100)\n",
    "z = np.linspace(-2, 2, 100)\n",
    "r = z**2 + 1\n",
    "x = r * np.sin(theta)\n",
    "y = r * np.cos(theta)\n",
    "ax.plot(x, y, z, label='parametric curve')\n",
    "ax.legend()\n",
    "\n",
    "plt.show()\n"
   ]
  },
  {
   "cell_type": "markdown",
   "metadata": {},
   "source": [
    "### Statistics"
   ]
  },
  {
   "cell_type": "code",
   "execution_count": null,
   "metadata": {
    "collapsed": false
   },
   "outputs": [],
   "source": [
    "arr = np.random.randn(5,4)\n",
    "arr"
   ]
  },
  {
   "cell_type": "code",
   "execution_count": null,
   "metadata": {
    "collapsed": false
   },
   "outputs": [],
   "source": [
    "#arr.mean()  # mean of the entire data\n",
    "#optional axis argument \n",
    "#arr.mean(0) # - mean along the columns\n",
    "#arr.mean(1) # - mean along the row\n",
    "print(np.mean(arr))\n",
    "print(np.mean(arr, 0))\n",
    "print(np.mean(arr, 1))"
   ]
  },
  {
   "cell_type": "code",
   "execution_count": null,
   "metadata": {
    "collapsed": false
   },
   "outputs": [],
   "source": [
    "print(arr.sum())  # sum of the entire data\n",
    "#optional axis argument \n",
    "print(arr.sum(0)) # - sum along the columns\n",
    "print(arr.sum(1)) # - sum along the row\n",
    "#print(np.sum(arr))\n",
    "#print(np.sum(arr, 0))\n",
    "#print(np.sum(arr, 1))"
   ]
  },
  {
   "cell_type": "code",
   "execution_count": null,
   "metadata": {
    "collapsed": false
   },
   "outputs": [],
   "source": [
    "#x = np.random.randn(20)\n",
    "x = np.arange(20)\n",
    "y = x.cumsum()\n",
    "plt.plot(y)\n",
    "plt.show"
   ]
  },
  {
   "cell_type": "code",
   "execution_count": null,
   "metadata": {
    "collapsed": false
   },
   "outputs": [],
   "source": [
    "arr = np.arange(15).reshape(5,3)\n",
    "print(arr, '\\n')\n",
    "print(arr.cumsum(), '\\n')  # cumsum of the entire data\n",
    "#optional axis argument \n",
    "print(arr.cumsum(0), '\\n') # - cumsum along the columns\n",
    "print(arr.cumsum(1), '\\n') # - cumsum along the row\n",
    "#print(np.sum(arr))\n",
    "#print(np.sum(arr, 0))\n",
    "#print(np.sum(arr, 1))"
   ]
  },
  {
   "cell_type": "markdown",
   "metadata": {},
   "source": [
    "#### Sort"
   ]
  },
  {
   "cell_type": "code",
   "execution_count": null,
   "metadata": {
    "collapsed": false
   },
   "outputs": [],
   "source": [
    "np.random.seed(12345)\n",
    "\n",
    "irand = np.array([np.random.randint(0, 5) for p in range(0, 15)])\n",
    "print(irand)\n",
    "\n",
    "sortedcopy = np.sort(irand)  #returns a sorted copy of irand\n",
    "print(sortedcopy, '\\n')\n",
    "\n",
    "s = irand.reshape(5,3)\n",
    "print(s, '\\n')\n",
    "s.sort(1) \n",
    "print(s)"
   ]
  },
  {
   "cell_type": "markdown",
   "metadata": {
    "collapsed": true
   },
   "source": [
    "#### File I/O Numpy array\n",
    "numpy is able to save and load array data (to and from disk) both as a binary and text format.\n",
    "- np.save       - saves an array to a binary file in Numpy .npy format\n",
    "- np.load\n",
    "- np.savez\n",
    "- np.savetxt    - e.g, for writing comma delimited arrays\n",
    "- np.loadtxt\n",
    "- np.genfromtxt"
   ]
  },
  {
   "cell_type": "code",
   "execution_count": null,
   "metadata": {
    "collapsed": false
   },
   "outputs": [],
   "source": [
    "arr = np.arange(10)\n",
    "np.save('my_arr', arr)"
   ]
  },
  {
   "cell_type": "code",
   "execution_count": null,
   "metadata": {
    "collapsed": false
   },
   "outputs": [],
   "source": [
    "m_arr = np.load('my_arr.npy')\n",
    "print(m_arr)"
   ]
  },
  {
   "cell_type": "code",
   "execution_count": null,
   "metadata": {
    "collapsed": false
   },
   "outputs": [],
   "source": [
    "m_arr2 = np.arange(32).reshape(8,4)\n",
    "#print(m_arr2)\n",
    "np.savetxt('my_arr2.txt', m_arr2, fmt='%d', delimiter=',')"
   ]
  },
  {
   "cell_type": "code",
   "execution_count": null,
   "metadata": {
    "collapsed": false
   },
   "outputs": [],
   "source": [
    "m_arr3 = np.loadtxt('my_arr2.txt' , delimiter=',')\n",
    "m_arr3\n",
    "#print(m_arr3)"
   ]
  },
  {
   "cell_type": "markdown",
   "metadata": {},
   "source": [
    "### File I/O\n",
    "\n",
    "Three main types of ios:\n",
    "- text io  -- expects and produces str object\n",
    "- binary io\n",
    "- raw io\n",
    "\n",
    "various modes\n",
    "- read-only   -- 'r'\n",
    "- write-only  -- 'w'\n",
    "- read-write  -- 'r+'\n",
    "- appending   -- 'a'\n",
    "    read binary mode  -- 'rb'\n",
    "    write binary mode -- 'wb'\n",
    "    etc.\n",
    "\n",
    "Methods for file i/o\n",
    "- open()\n",
    "...* io.StringIO()  -- in-memory text streams\n",
    "...* io.BytesIO()   -- in-memory bytes streams\n",
    "- read()\n",
    "    readline()\n",
    "    readlines()\n",
    "- write()\n",
    "    writelines()\n",
    "- seek(), tell()\n",
    "- close()"
   ]
  },
  {
   "cell_type": "code",
   "execution_count": null,
   "metadata": {
    "collapsed": false
   },
   "outputs": [],
   "source": [
    "# write() method - writes string to file\n",
    "# Due to buffering the string may not show up in the file \n",
    "# until either flush() or close() methods are called.\n",
    "s = \"\"\"This is the 1st line.\n",
    "This is the 2nd line.\n",
    "This is the 3rd line\n",
    "This is the 4th line.\"\"\"\n",
    "\n",
    "f = open('TestFile.txt', 'w')\n",
    "f.write(s) \n",
    "f.flush()\n",
    "f.close\n",
    "\n",
    "#s = io.StringIO()\n",
    "#s.write('Hello World\\n')\n",
    "\n",
    "#print('This is a test', file=s)\n",
    " # Get all of the data written so far\n",
    "#print(s.getvalue())\n"
   ]
  },
  {
   "cell_type": "markdown",
   "metadata": {},
   "source": [
    "#### Open text file for reading and assign the values to a variable"
   ]
  },
  {
   "cell_type": "code",
   "execution_count": null,
   "metadata": {
    "collapsed": false
   },
   "outputs": [],
   "source": [
    "#f = open('TestFile.txt', 'rb')\n",
    "fin = open('TestFile.txt', 'r')\n",
    "data = fin.read()\n",
    "print(data)\n",
    "fin.close"
   ]
  },
  {
   "cell_type": "markdown",
   "metadata": {},
   "source": [
    "#### tell() - returns the position of the file object  "
   ]
  },
  {
   "cell_type": "code",
   "execution_count": null,
   "metadata": {
    "collapsed": false
   },
   "outputs": [],
   "source": [
    "f = open('TestFile.txt', 'r')\n",
    "print(f.tell())\n",
    "print(f.read())\n",
    "print(f.tell())\n",
    "f.close"
   ]
  },
  {
   "cell_type": "markdown",
   "metadata": {},
   "source": [
    "#### seek(offset, fromwhere)\n",
    "- sets the file object current position at the offset\n",
    "##### fromwhere \n",
    "- 0 (default) seek from file beginning; \n",
    "- 1 - seek relative to the current position\n",
    "- 2 - seek relative to the file's end"
   ]
  },
  {
   "cell_type": "code",
   "execution_count": null,
   "metadata": {
    "collapsed": false
   },
   "outputs": [],
   "source": [
    "# python 3.x only supports text file seeks from zero offset (file begining)\n",
    "f = open('TestFile.txt', 'r')\n",
    "f.seek(21,0)\n",
    "data = f.read()\n",
    "print(data, '\\n')\n",
    "\n",
    "f.seek(0,0)\n",
    "data = f.read()\n",
    "print(data, '\\n')\n",
    "\n",
    "f.close\n",
    "\n",
    "# supported in bytes mode\n",
    "#f.seek(-30,2)\n",
    "#data = f.read()\n",
    "#print(data, '\\n')\n",
    "\n"
   ]
  },
  {
   "cell_type": "code",
   "execution_count": null,
   "metadata": {
    "collapsed": false
   },
   "outputs": [],
   "source": [
    "import time\n",
    "f = open('TestFile.txt', 'r')\n",
    "for line in f:\n",
    "    print(line, end='')\n",
    "    time.sleep(1)    # pause for 1 second\n",
    "f.close()\n",
    "\n",
    "#[print(line, end='') for line in f]"
   ]
  },
  {
   "cell_type": "code",
   "execution_count": null,
   "metadata": {
    "collapsed": false
   },
   "outputs": [],
   "source": [
    "#list all lines in a file\n",
    "f = open('TestFile.txt', 'r')\n",
    "data = f.readlines() #read all lines and return them as a list\n",
    "print(data)\n",
    "f.close()\n",
    "\n",
    "data[1]"
   ]
  },
  {
   "cell_type": "code",
   "execution_count": null,
   "metadata": {
    "collapsed": false
   },
   "outputs": [],
   "source": [
    "# Need to convert to string first\n",
    "value = ('This is a text', 42)\n",
    "s = str(value)\n",
    "f = open('TestFile2.txt', 'w+') #open file for write and read\n",
    "f.write(s)\n",
    "f.flush()\n",
    "\n",
    "f.seek(0,0)\n",
    "data = f.read()\n",
    "print(data)\n",
    "f.close()"
   ]
  },
  {
   "cell_type": "markdown",
   "metadata": {},
   "source": [
    "When using f = open(), we have to make sure the file is explicitly closed. \n",
    "- A better way of opening a file is using 'with ... as' statement as shown below. \n",
    "- This creates a block. Reading is done within the block. \n",
    "- Once you exit the block, python will automatically close the file."
   ]
  },
  {
   "cell_type": "code",
   "execution_count": null,
   "metadata": {
    "collapsed": false
   },
   "outputs": [],
   "source": [
    "# Use 'with .. as' statement - ensures proper closure of the file\n",
    "with open('TestFile.txt', 'r') as f:\n",
    "    data = f.read()\n",
    "    print(data)\n",
    "f.closed #checks if the file is closed."
   ]
  },
  {
   "cell_type": "markdown",
   "metadata": {},
   "source": [
    "#### pickle - allows us to dump a list of data into a file\n",
    "- pickle has two methods\n",
    "    - dump()  -- dumps object  to a file object\n",
    "    - load()  -- loads an object from a file data"
   ]
  },
  {
   "cell_type": "code",
   "execution_count": 2,
   "metadata": {
    "collapsed": false
   },
   "outputs": [
    {
     "name": "stdout",
     "output_type": "stream",
     "text": [
      "['Bar', 'foo', '1234', 'cat']\n"
     ]
    }
   ],
   "source": [
    "import pickle\n",
    "objList = ['Bar', 'foo', '1234', 'cat'] \n",
    "fout = open('pickle.txt', 'wb')\n",
    "pickle.dump(objList, fout)\n",
    "fout.flush()\n",
    "fout.close()\n",
    "\n",
    "fin = open('pickle.txt', 'rb')\n",
    "data = pickle.load(fin)\n",
    "print(data)"
   ]
  },
  {
   "cell_type": "code",
   "execution_count": null,
   "metadata": {
    "collapsed": false
   },
   "outputs": [],
   "source": [
    "from math import pi\n",
    "#print('This is a test for PI = %3.1f', % math.pi)\n",
    "print('The value of PI is approximately %0.3f.' % pi) # C printf style formatting"
   ]
  },
  {
   "cell_type": "markdown",
   "metadata": {
    "collapsed": true
   },
   "source": [
    "### Linear algebra\n",
    "- dot product\n",
    "- Matrix multiplication\n",
    "- matrix decomposition, e.g. qr\n",
    "- Determinant of a matrix\n",
    "- Inverse of a matrix\n",
    "- [Linear Algebra](http://www.efunda.com/math/num_linearalgebra/num_linearalgebra.cfm)\n",
    "<img src=\"image1.gif\">"
   ]
  },
  {
   "cell_type": "code",
   "execution_count": 7,
   "metadata": {
    "collapsed": false
   },
   "outputs": [
    {
     "name": "stdout",
     "output_type": "stream",
     "text": [
      "[[ 0  1  2  3]\n",
      " [ 4  5  6  7]\n",
      " [ 8  9 10 11]]\n",
      "\n",
      "[[ 0  2  4  6]\n",
      " [ 8 10 12 14]\n",
      " [16 18 20 22]]\n"
     ]
    },
    {
     "data": {
      "text/plain": [
       "array([[  0,   2,   8,  18],\n",
       "       [ 32,  50,  72,  98],\n",
       "       [128, 162, 200, 242]])"
      ]
     },
     "execution_count": 7,
     "metadata": {},
     "output_type": "execute_result"
    }
   ],
   "source": [
    "A = np.arange(12).reshape(3,4)\n",
    "print(A)\n",
    "print()\n",
    "B = np.arange(12).reshape(3,4)\n",
    "B = 2*B\n",
    "print(B)\n",
    "C = A*B  #elementwise multiplication, matrices should have equal dimension\n",
    "C"
   ]
  },
  {
   "cell_type": "markdown",
   "metadata": {},
   "source": [
    "#### Vector dot product"
   ]
  },
  {
   "cell_type": "code",
   "execution_count": null,
   "metadata": {
    "collapsed": true
   },
   "outputs": [],
   "source": [
    "A = np.arange(4).reshape(1,4)\n",
    "B = 2*np.arange(4).reshape(4,1)\n",
    "print(A)\n",
    "print('')\n",
    "print(B)\n",
    "print('')\n",
    "C=np.dot(A,B)\n",
    "print(C)\n",
    "print('')\n",
    "\n",
    "'''\n",
    "0*0 + 1*2 + 2*4 + 3*6\n",
    "'''"
   ]
  },
  {
   "cell_type": "markdown",
   "metadata": {},
   "source": [
    "#### Matrix multiplication\n",
    "<img src=\"image2.gif\">"
   ]
  },
  {
   "cell_type": "code",
   "execution_count": 10,
   "metadata": {
    "collapsed": false
   },
   "outputs": [
    {
     "name": "stdout",
     "output_type": "stream",
     "text": [
      "[[0 1 2]\n",
      " [3 4 5]]\n",
      "\n",
      "[[ 0  2]\n",
      " [ 4  6]\n",
      " [ 8 10]]\n",
      "\n",
      "[[20 26]\n",
      " [56 80]]\n",
      "\n"
     ]
    }
   ],
   "source": [
    "A = np.arange(6).reshape(2,3)\n",
    "B = 2*np.arange(6).reshape(3,2)\n",
    "print(A)\n",
    "print('')\n",
    "print(B)\n",
    "print('')\n",
    "\n",
    "#2 x 3  3 x 2 -> 2 x 2\n",
    "C=np.dot(A,B)\n",
    "print(C)\n",
    "print('')\n",
    "\n"
   ]
  },
  {
   "cell_type": "code",
   "execution_count": null,
   "metadata": {
    "collapsed": true
   },
   "outputs": [],
   "source": [
    "#### Identity matrix"
   ]
  },
  {
   "cell_type": "code",
   "execution_count": 11,
   "metadata": {
    "collapsed": false
   },
   "outputs": [
    {
     "name": "stdout",
     "output_type": "stream",
     "text": [
      "[[ 1.  0.  0.  0.]\n",
      " [ 0.  1.  0.  0.]\n",
      " [ 0.  0.  1.  0.]\n",
      " [ 0.  0.  0.  1.]]\n",
      "\n",
      "[[ 0  1  2  3]\n",
      " [ 4  5  6  7]\n",
      " [ 8  9 10 11]\n",
      " [12 13 14 15]]\n",
      "\n",
      "[[  0.   1.   2.   3.]\n",
      " [  4.   5.   6.   7.]\n",
      " [  8.   9.  10.  11.]\n",
      " [ 12.  13.  14.  15.]]\n"
     ]
    }
   ],
   "source": [
    "A = np.eye(4)\n",
    "B = np.arange(16).reshape(4,4)\n",
    "print(A)\n",
    "print('')\n",
    "print(B)\n",
    "print('')\n",
    "print(np.dot(A,B))"
   ]
  },
  {
   "cell_type": "markdown",
   "metadata": {},
   "source": [
    "#### trace() - the sum of the diagonal elements"
   ]
  },
  {
   "cell_type": "code",
   "execution_count": 13,
   "metadata": {
    "collapsed": false
   },
   "outputs": [
    {
     "name": "stdout",
     "output_type": "stream",
     "text": [
      "[[ 4.  0.  0.  0.]\n",
      " [ 0.  4.  0.  0.]\n",
      " [ 0.  0.  4.  0.]\n",
      " [ 0.  0.  0.  4.]]\n",
      "\n"
     ]
    },
    {
     "data": {
      "text/plain": [
       "16.0"
      ]
     },
     "execution_count": 13,
     "metadata": {},
     "output_type": "execute_result"
    }
   ],
   "source": [
    "A = 4*np.eye(4)\n",
    "print(A)\n",
    "print('')\n",
    "B = np.trace(A)\n",
    "B"
   ]
  },
  {
   "cell_type": "markdown",
   "metadata": {},
   "source": [
    "#### diag() - returns the diagonal elemnts of a matrix"
   ]
  },
  {
   "cell_type": "code",
   "execution_count": 14,
   "metadata": {
    "collapsed": false
   },
   "outputs": [
    {
     "name": "stdout",
     "output_type": "stream",
     "text": [
      "[[1 2 3]\n",
      " [4 5 6]\n",
      " [7 8 9]]\n",
      "\n",
      "[1 5 9]\n"
     ]
    }
   ],
   "source": [
    "A = np.array([[1,2,3], [4,5,6],[7,8,9]])\n",
    "print(A)\n",
    "print('')\n",
    "print(np.diag(A))"
   ]
  },
  {
   "cell_type": "markdown",
   "metadata": {},
   "source": [
    "#### det() - determinant of a matrix\n",
    "<img src=\"image3.png\">"
   ]
  },
  {
   "cell_type": "code",
   "execution_count": 16,
   "metadata": {
    "collapsed": false
   },
   "outputs": [
    {
     "name": "stdout",
     "output_type": "stream",
     "text": [
      "[[1 2 3]\n",
      " [4 5 6]\n",
      " [7 8 9]]\n",
      "\n"
     ]
    },
    {
     "data": {
      "text/plain": [
       "10.048285872958193"
      ]
     },
     "execution_count": 16,
     "metadata": {},
     "output_type": "execute_result"
    }
   ],
   "source": [
    "A = np.array([[1,2,3], [4,5,6],[7,8,9]])\n",
    "print(A)\n",
    "print('')\n",
    "\n",
    "C = np.random.rand(3,3) + A\n",
    "np.linalg.det(C) #determinant of a matrix"
   ]
  },
  {
   "cell_type": "markdown",
   "metadata": {},
   "source": [
    "#### inv() - inverse of a matrix\n",
    "<img src=\"image4.png\">"
   ]
  },
  {
   "cell_type": "code",
   "execution_count": null,
   "metadata": {
    "collapsed": false
   },
   "outputs": [],
   "source": [
    "print(np.linalg.inv(C))\n",
    "print('')\n",
    "print(np.linalg.inv(A)) #det(A) was zero"
   ]
  },
  {
   "cell_type": "code",
   "execution_count": null,
   "metadata": {
    "collapsed": false
   },
   "outputs": [],
   "source": [
    "# Ax = b\n",
    "A = np.array([[1,2,3], [4,5,6], [7,8,9]]) + np.random.rand(3,3)\n",
    "b = np.array([[4],[6],[3]])\n",
    "print(A)\n",
    "print('')\n",
    "print(b)\n",
    "\n",
    "#x = np.array([['x1'],['x2'],['x3']])\n",
    "#print('')\n",
    "#print(x)\n",
    "\n",
    "x = np.dot(np.linalg.inv(A), b)\n",
    "print(x)\n",
    "print('')\n",
    "print(b - np.dot(A,x))\n",
    "\n",
    "# using solve()\n",
    "np.linalg.solve(A,b)"
   ]
  }
 ],
 "metadata": {
  "kernelspec": {
   "display_name": "Python 3",
   "language": "python",
   "name": "python3"
  },
  "language_info": {
   "codemirror_mode": {
    "name": "ipython",
    "version": 3
   },
   "file_extension": ".py",
   "mimetype": "text/x-python",
   "name": "python",
   "nbconvert_exporter": "python",
   "pygments_lexer": "ipython3",
   "version": "3.4.3"
  }
 },
 "nbformat": 4,
 "nbformat_minor": 0
}
